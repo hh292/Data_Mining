{
 "cells": [
  {
   "cell_type": "markdown",
   "metadata": {},
   "source": [
    "## DATA MINING - SUPERVISED DATA MINING (CLASSIFICATION)\n",
    "\n"
   ]
  },
  {
   "cell_type": "markdown",
   "metadata": {},
   "source": [
    "##  Project Title : Absenteeism at Work\n",
    "\n",
    "###  By : Himanshu Hunge [hh292]"
   ]
  },
  {
   "cell_type": "markdown",
   "metadata": {},
   "source": [
    "## BUSINESS UNDERSANDING\n",
    "\n",
    "The aim of the project is to analyze the reason for Absenteeism at work data set and create a predictive model based on supervised learning. The model is used to help the consultant to identify an employee will be absent of his/ her work. For instance, examining the effect of components like Social Drinker, Employees children, Work load at office, Transportation expenses can help the consultant to predict the reason of absenteeism."
   ]
  },
  {
   "cell_type": "code",
   "execution_count": 1,
   "metadata": {},
   "outputs": [
    {
     "name": "stderr",
     "output_type": "stream",
     "text": [
      "/anaconda3/lib/python3.6/site-packages/sklearn/cross_validation.py:41: DeprecationWarning: This module was deprecated in version 0.18 in favor of the model_selection module into which all the refactored classes and functions are moved. Also note that the interface of the new CV iterators are different from that of this module. This module will be removed in 0.20.\n",
      "  \"This module will be removed in 0.20.\", DeprecationWarning)\n"
     ]
    }
   ],
   "source": [
    "#All the basic libraries- pandas, sklearn, matplotlib required for the analysis of the \n",
    "#dataset are loaded into the notebook.\n",
    "\n",
    "import pandas as pd       #Pandas software library for data manipulation and analysis\n",
    "import numpy as np        #numpy package for scientific computing\n",
    "\n",
    "#Using all basic libraries for mining , statistics and visulization.\n",
    "\n",
    "from sklearn.metrics import accuracy_score             \n",
    "from sklearn.model_selection import train_test_split\n",
    "from sklearn.tree import DecisionTreeClassifier\n",
    "from sklearn.feature_selection import RFE\n",
    "from sklearn.linear_model import LinearRegression\n",
    "from sklearn.metrics import confusion_matrix\n",
    "\n",
    "import matplotlib.pyplot as plt\n",
    "from sklearn import cross_validation\n",
    "from sklearn.metrics import roc_curve, auc\n",
    "from sklearn import tree\n",
    "from sklearn.metrics import f1_score"
   ]
  },
  {
   "cell_type": "markdown",
   "metadata": {},
   "source": [
    "### Data Understanding and Data Preparation"
   ]
  },
  {
   "cell_type": "code",
   "execution_count": 2,
   "metadata": {},
   "outputs": [],
   "source": [
    "#Reading the data from csv file \"Asenteesim at work\".\n",
    "\n",
    "data = pd.read_csv(\"Absenteeism_at_work.csv\")"
   ]
  },
  {
   "cell_type": "code",
   "execution_count": 3,
   "metadata": {},
   "outputs": [
    {
     "data": {
      "text/html": [
       "<div>\n",
       "<style scoped>\n",
       "    .dataframe tbody tr th:only-of-type {\n",
       "        vertical-align: middle;\n",
       "    }\n",
       "\n",
       "    .dataframe tbody tr th {\n",
       "        vertical-align: top;\n",
       "    }\n",
       "\n",
       "    .dataframe thead th {\n",
       "        text-align: right;\n",
       "    }\n",
       "</style>\n",
       "<table border=\"1\" class=\"dataframe\">\n",
       "  <thead>\n",
       "    <tr style=\"text-align: right;\">\n",
       "      <th></th>\n",
       "      <th>ID</th>\n",
       "      <th>Reason for absence</th>\n",
       "      <th>Month of absence</th>\n",
       "      <th>Day of the week</th>\n",
       "      <th>Seasons</th>\n",
       "      <th>Transportation expense</th>\n",
       "      <th>Distance from Residence to Work</th>\n",
       "      <th>Service time</th>\n",
       "      <th>Age</th>\n",
       "      <th>Work load Average/day</th>\n",
       "      <th>...</th>\n",
       "      <th>Disciplinary failure</th>\n",
       "      <th>Education</th>\n",
       "      <th>Son</th>\n",
       "      <th>Social drinker</th>\n",
       "      <th>Social smoker</th>\n",
       "      <th>Pet</th>\n",
       "      <th>Weight</th>\n",
       "      <th>Height</th>\n",
       "      <th>Body mass index</th>\n",
       "      <th>Absenteeism time in hours</th>\n",
       "    </tr>\n",
       "  </thead>\n",
       "  <tbody>\n",
       "    <tr>\n",
       "      <th>0</th>\n",
       "      <td>11</td>\n",
       "      <td>26</td>\n",
       "      <td>7</td>\n",
       "      <td>3</td>\n",
       "      <td>1</td>\n",
       "      <td>289</td>\n",
       "      <td>36</td>\n",
       "      <td>13</td>\n",
       "      <td>33</td>\n",
       "      <td>239,554</td>\n",
       "      <td>...</td>\n",
       "      <td>0</td>\n",
       "      <td>1</td>\n",
       "      <td>2</td>\n",
       "      <td>1</td>\n",
       "      <td>0</td>\n",
       "      <td>1</td>\n",
       "      <td>90</td>\n",
       "      <td>172</td>\n",
       "      <td>30</td>\n",
       "      <td>4</td>\n",
       "    </tr>\n",
       "    <tr>\n",
       "      <th>1</th>\n",
       "      <td>36</td>\n",
       "      <td>0</td>\n",
       "      <td>7</td>\n",
       "      <td>3</td>\n",
       "      <td>1</td>\n",
       "      <td>118</td>\n",
       "      <td>13</td>\n",
       "      <td>18</td>\n",
       "      <td>50</td>\n",
       "      <td>239,554</td>\n",
       "      <td>...</td>\n",
       "      <td>1</td>\n",
       "      <td>1</td>\n",
       "      <td>1</td>\n",
       "      <td>1</td>\n",
       "      <td>0</td>\n",
       "      <td>0</td>\n",
       "      <td>98</td>\n",
       "      <td>178</td>\n",
       "      <td>31</td>\n",
       "      <td>0</td>\n",
       "    </tr>\n",
       "    <tr>\n",
       "      <th>2</th>\n",
       "      <td>3</td>\n",
       "      <td>23</td>\n",
       "      <td>7</td>\n",
       "      <td>4</td>\n",
       "      <td>1</td>\n",
       "      <td>179</td>\n",
       "      <td>51</td>\n",
       "      <td>18</td>\n",
       "      <td>38</td>\n",
       "      <td>239,554</td>\n",
       "      <td>...</td>\n",
       "      <td>0</td>\n",
       "      <td>1</td>\n",
       "      <td>0</td>\n",
       "      <td>1</td>\n",
       "      <td>0</td>\n",
       "      <td>0</td>\n",
       "      <td>89</td>\n",
       "      <td>170</td>\n",
       "      <td>31</td>\n",
       "      <td>2</td>\n",
       "    </tr>\n",
       "    <tr>\n",
       "      <th>3</th>\n",
       "      <td>7</td>\n",
       "      <td>7</td>\n",
       "      <td>7</td>\n",
       "      <td>5</td>\n",
       "      <td>1</td>\n",
       "      <td>279</td>\n",
       "      <td>5</td>\n",
       "      <td>14</td>\n",
       "      <td>39</td>\n",
       "      <td>239,554</td>\n",
       "      <td>...</td>\n",
       "      <td>0</td>\n",
       "      <td>1</td>\n",
       "      <td>2</td>\n",
       "      <td>1</td>\n",
       "      <td>1</td>\n",
       "      <td>0</td>\n",
       "      <td>68</td>\n",
       "      <td>168</td>\n",
       "      <td>24</td>\n",
       "      <td>4</td>\n",
       "    </tr>\n",
       "    <tr>\n",
       "      <th>4</th>\n",
       "      <td>11</td>\n",
       "      <td>23</td>\n",
       "      <td>7</td>\n",
       "      <td>5</td>\n",
       "      <td>1</td>\n",
       "      <td>289</td>\n",
       "      <td>36</td>\n",
       "      <td>13</td>\n",
       "      <td>33</td>\n",
       "      <td>239,554</td>\n",
       "      <td>...</td>\n",
       "      <td>0</td>\n",
       "      <td>1</td>\n",
       "      <td>2</td>\n",
       "      <td>1</td>\n",
       "      <td>0</td>\n",
       "      <td>1</td>\n",
       "      <td>90</td>\n",
       "      <td>172</td>\n",
       "      <td>30</td>\n",
       "      <td>2</td>\n",
       "    </tr>\n",
       "  </tbody>\n",
       "</table>\n",
       "<p>5 rows × 21 columns</p>\n",
       "</div>"
      ],
      "text/plain": [
       "   ID  Reason for absence  Month of absence  Day of the week  Seasons  \\\n",
       "0  11                  26                 7                3        1   \n",
       "1  36                   0                 7                3        1   \n",
       "2   3                  23                 7                4        1   \n",
       "3   7                   7                 7                5        1   \n",
       "4  11                  23                 7                5        1   \n",
       "\n",
       "   Transportation expense  Distance from Residence to Work  Service time  Age  \\\n",
       "0                     289                               36            13   33   \n",
       "1                     118                               13            18   50   \n",
       "2                     179                               51            18   38   \n",
       "3                     279                                5            14   39   \n",
       "4                     289                               36            13   33   \n",
       "\n",
       "  Work load Average/day             ...              Disciplinary failure  \\\n",
       "0                239,554            ...                                 0   \n",
       "1                239,554            ...                                 1   \n",
       "2                239,554            ...                                 0   \n",
       "3                239,554            ...                                 0   \n",
       "4                239,554            ...                                 0   \n",
       "\n",
       "   Education  Son  Social drinker  Social smoker  Pet  Weight  Height  \\\n",
       "0          1    2               1              0    1      90     172   \n",
       "1          1    1               1              0    0      98     178   \n",
       "2          1    0               1              0    0      89     170   \n",
       "3          1    2               1              1    0      68     168   \n",
       "4          1    2               1              0    1      90     172   \n",
       "\n",
       "   Body mass index  Absenteeism time in hours  \n",
       "0               30                          4  \n",
       "1               31                          0  \n",
       "2               31                          2  \n",
       "3               24                          4  \n",
       "4               30                          2  \n",
       "\n",
       "[5 rows x 21 columns]"
      ]
     },
     "execution_count": 3,
     "metadata": {},
     "output_type": "execute_result"
    }
   ],
   "source": [
    "data.head(5)"
   ]
  },
  {
   "cell_type": "code",
   "execution_count": 4,
   "metadata": {},
   "outputs": [
    {
     "data": {
      "text/plain": [
       "Index(['ID', 'Reason for absence', 'Month of absence', 'Day of the week',\n",
       "       'Seasons', 'Transportation expense', 'Distance from Residence to Work',\n",
       "       'Service time', 'Age', 'Work load Average/day ', 'Hit target',\n",
       "       'Disciplinary failure', 'Education', 'Son', 'Social drinker',\n",
       "       'Social smoker', 'Pet', 'Weight', 'Height', 'Body mass index',\n",
       "       'Absenteeism time in hours'],\n",
       "      dtype='object')"
      ]
     },
     "execution_count": 4,
     "metadata": {},
     "output_type": "execute_result"
    }
   ],
   "source": [
    "data.columns"
   ]
  },
  {
   "cell_type": "code",
   "execution_count": 5,
   "metadata": {},
   "outputs": [],
   "source": [
    "#Removing special character of column name \"Work load Average/day\".\n",
    "\n",
    "data = data.rename(columns = {'Work load Average/day ':'Work_Load_Avg_per_day'})"
   ]
  },
  {
   "cell_type": "code",
   "execution_count": 6,
   "metadata": {},
   "outputs": [
    {
     "data": {
      "text/plain": [
       "ID                                  int64\n",
       "Reason for absence                  int64\n",
       "Month of absence                    int64\n",
       "Day of the week                     int64\n",
       "Seasons                             int64\n",
       "Transportation expense              int64\n",
       "Distance from Residence to Work     int64\n",
       "Service time                        int64\n",
       "Age                                 int64\n",
       "Work_Load_Avg_per_day              object\n",
       "Hit target                          int64\n",
       "Disciplinary failure                int64\n",
       "Education                           int64\n",
       "Son                                 int64\n",
       "Social drinker                      int64\n",
       "Social smoker                       int64\n",
       "Pet                                 int64\n",
       "Weight                              int64\n",
       "Height                              int64\n",
       "Body mass index                     int64\n",
       "Absenteeism time in hours           int64\n",
       "dtype: object"
      ]
     },
     "execution_count": 6,
     "metadata": {},
     "output_type": "execute_result"
    }
   ],
   "source": [
    "data.dtypes"
   ]
  },
  {
   "cell_type": "code",
   "execution_count": 7,
   "metadata": {},
   "outputs": [],
   "source": [
    "#Removing special chacater \",\" (comma) in Work_Load_Avg_per_day column and converting its type to float.\n",
    "\n",
    "data['Work_Load_Avg_per_day'] = data.Work_Load_Avg_per_day.str.replace(',', '').astype(float)"
   ]
  },
  {
   "cell_type": "code",
   "execution_count": 8,
   "metadata": {
    "scrolled": true
   },
   "outputs": [
    {
     "data": {
      "text/html": [
       "<div>\n",
       "<style scoped>\n",
       "    .dataframe tbody tr th:only-of-type {\n",
       "        vertical-align: middle;\n",
       "    }\n",
       "\n",
       "    .dataframe tbody tr th {\n",
       "        vertical-align: top;\n",
       "    }\n",
       "\n",
       "    .dataframe thead th {\n",
       "        text-align: right;\n",
       "    }\n",
       "</style>\n",
       "<table border=\"1\" class=\"dataframe\">\n",
       "  <thead>\n",
       "    <tr style=\"text-align: right;\">\n",
       "      <th></th>\n",
       "      <th>ID</th>\n",
       "      <th>Reason for absence</th>\n",
       "      <th>Month of absence</th>\n",
       "      <th>Day of the week</th>\n",
       "      <th>Seasons</th>\n",
       "      <th>Transportation expense</th>\n",
       "      <th>Distance from Residence to Work</th>\n",
       "      <th>Service time</th>\n",
       "      <th>Age</th>\n",
       "      <th>Work_Load_Avg_per_day</th>\n",
       "      <th>...</th>\n",
       "      <th>Disciplinary failure</th>\n",
       "      <th>Education</th>\n",
       "      <th>Son</th>\n",
       "      <th>Social drinker</th>\n",
       "      <th>Social smoker</th>\n",
       "      <th>Pet</th>\n",
       "      <th>Weight</th>\n",
       "      <th>Height</th>\n",
       "      <th>Body mass index</th>\n",
       "      <th>Absenteeism time in hours</th>\n",
       "    </tr>\n",
       "  </thead>\n",
       "  <tbody>\n",
       "    <tr>\n",
       "      <th>0</th>\n",
       "      <td>11</td>\n",
       "      <td>26</td>\n",
       "      <td>7</td>\n",
       "      <td>3</td>\n",
       "      <td>1</td>\n",
       "      <td>289</td>\n",
       "      <td>36</td>\n",
       "      <td>13</td>\n",
       "      <td>33</td>\n",
       "      <td>239554.0</td>\n",
       "      <td>...</td>\n",
       "      <td>0</td>\n",
       "      <td>1</td>\n",
       "      <td>2</td>\n",
       "      <td>1</td>\n",
       "      <td>0</td>\n",
       "      <td>1</td>\n",
       "      <td>90</td>\n",
       "      <td>172</td>\n",
       "      <td>30</td>\n",
       "      <td>4</td>\n",
       "    </tr>\n",
       "    <tr>\n",
       "      <th>1</th>\n",
       "      <td>36</td>\n",
       "      <td>0</td>\n",
       "      <td>7</td>\n",
       "      <td>3</td>\n",
       "      <td>1</td>\n",
       "      <td>118</td>\n",
       "      <td>13</td>\n",
       "      <td>18</td>\n",
       "      <td>50</td>\n",
       "      <td>239554.0</td>\n",
       "      <td>...</td>\n",
       "      <td>1</td>\n",
       "      <td>1</td>\n",
       "      <td>1</td>\n",
       "      <td>1</td>\n",
       "      <td>0</td>\n",
       "      <td>0</td>\n",
       "      <td>98</td>\n",
       "      <td>178</td>\n",
       "      <td>31</td>\n",
       "      <td>0</td>\n",
       "    </tr>\n",
       "    <tr>\n",
       "      <th>2</th>\n",
       "      <td>3</td>\n",
       "      <td>23</td>\n",
       "      <td>7</td>\n",
       "      <td>4</td>\n",
       "      <td>1</td>\n",
       "      <td>179</td>\n",
       "      <td>51</td>\n",
       "      <td>18</td>\n",
       "      <td>38</td>\n",
       "      <td>239554.0</td>\n",
       "      <td>...</td>\n",
       "      <td>0</td>\n",
       "      <td>1</td>\n",
       "      <td>0</td>\n",
       "      <td>1</td>\n",
       "      <td>0</td>\n",
       "      <td>0</td>\n",
       "      <td>89</td>\n",
       "      <td>170</td>\n",
       "      <td>31</td>\n",
       "      <td>2</td>\n",
       "    </tr>\n",
       "  </tbody>\n",
       "</table>\n",
       "<p>3 rows × 21 columns</p>\n",
       "</div>"
      ],
      "text/plain": [
       "   ID  Reason for absence  Month of absence  Day of the week  Seasons  \\\n",
       "0  11                  26                 7                3        1   \n",
       "1  36                   0                 7                3        1   \n",
       "2   3                  23                 7                4        1   \n",
       "\n",
       "   Transportation expense  Distance from Residence to Work  Service time  Age  \\\n",
       "0                     289                               36            13   33   \n",
       "1                     118                               13            18   50   \n",
       "2                     179                               51            18   38   \n",
       "\n",
       "   Work_Load_Avg_per_day            ...              Disciplinary failure  \\\n",
       "0               239554.0            ...                                 0   \n",
       "1               239554.0            ...                                 1   \n",
       "2               239554.0            ...                                 0   \n",
       "\n",
       "   Education  Son  Social drinker  Social smoker  Pet  Weight  Height  \\\n",
       "0          1    2               1              0    1      90     172   \n",
       "1          1    1               1              0    0      98     178   \n",
       "2          1    0               1              0    0      89     170   \n",
       "\n",
       "   Body mass index  Absenteeism time in hours  \n",
       "0               30                          4  \n",
       "1               31                          0  \n",
       "2               31                          2  \n",
       "\n",
       "[3 rows x 21 columns]"
      ]
     },
     "execution_count": 8,
     "metadata": {},
     "output_type": "execute_result"
    }
   ],
   "source": [
    "data.head(3)"
   ]
  },
  {
   "cell_type": "code",
   "execution_count": 9,
   "metadata": {},
   "outputs": [
    {
     "data": {
      "text/html": [
       "<div>\n",
       "<style scoped>\n",
       "    .dataframe tbody tr th:only-of-type {\n",
       "        vertical-align: middle;\n",
       "    }\n",
       "\n",
       "    .dataframe tbody tr th {\n",
       "        vertical-align: top;\n",
       "    }\n",
       "\n",
       "    .dataframe thead th {\n",
       "        text-align: right;\n",
       "    }\n",
       "</style>\n",
       "<table border=\"1\" class=\"dataframe\">\n",
       "  <thead>\n",
       "    <tr style=\"text-align: right;\">\n",
       "      <th></th>\n",
       "      <th>ID</th>\n",
       "      <th>Reason for absence</th>\n",
       "      <th>Month of absence</th>\n",
       "      <th>Day of the week</th>\n",
       "      <th>Seasons</th>\n",
       "      <th>Transportation expense</th>\n",
       "      <th>Distance from Residence to Work</th>\n",
       "      <th>Service time</th>\n",
       "      <th>Age</th>\n",
       "      <th>Work_Load_Avg_per_day</th>\n",
       "      <th>...</th>\n",
       "      <th>Disciplinary failure</th>\n",
       "      <th>Education</th>\n",
       "      <th>Son</th>\n",
       "      <th>Social drinker</th>\n",
       "      <th>Social smoker</th>\n",
       "      <th>Pet</th>\n",
       "      <th>Weight</th>\n",
       "      <th>Height</th>\n",
       "      <th>Body mass index</th>\n",
       "      <th>Absenteeism time in hours</th>\n",
       "    </tr>\n",
       "  </thead>\n",
       "  <tbody>\n",
       "    <tr>\n",
       "      <th>count</th>\n",
       "      <td>740.000000</td>\n",
       "      <td>740.000000</td>\n",
       "      <td>740.000000</td>\n",
       "      <td>740.000000</td>\n",
       "      <td>740.000000</td>\n",
       "      <td>740.000000</td>\n",
       "      <td>740.000000</td>\n",
       "      <td>740.000000</td>\n",
       "      <td>740.000000</td>\n",
       "      <td>740.000000</td>\n",
       "      <td>...</td>\n",
       "      <td>740.000000</td>\n",
       "      <td>740.000000</td>\n",
       "      <td>740.000000</td>\n",
       "      <td>740.000000</td>\n",
       "      <td>740.000000</td>\n",
       "      <td>740.000000</td>\n",
       "      <td>740.000000</td>\n",
       "      <td>740.000000</td>\n",
       "      <td>740.000000</td>\n",
       "      <td>740.000000</td>\n",
       "    </tr>\n",
       "    <tr>\n",
       "      <th>mean</th>\n",
       "      <td>18.017568</td>\n",
       "      <td>19.216216</td>\n",
       "      <td>6.324324</td>\n",
       "      <td>3.914865</td>\n",
       "      <td>2.544595</td>\n",
       "      <td>221.329730</td>\n",
       "      <td>29.631081</td>\n",
       "      <td>12.554054</td>\n",
       "      <td>36.450000</td>\n",
       "      <td>271490.235135</td>\n",
       "      <td>...</td>\n",
       "      <td>0.054054</td>\n",
       "      <td>1.291892</td>\n",
       "      <td>1.018919</td>\n",
       "      <td>0.567568</td>\n",
       "      <td>0.072973</td>\n",
       "      <td>0.745946</td>\n",
       "      <td>79.035135</td>\n",
       "      <td>172.114865</td>\n",
       "      <td>26.677027</td>\n",
       "      <td>6.924324</td>\n",
       "    </tr>\n",
       "    <tr>\n",
       "      <th>std</th>\n",
       "      <td>11.021247</td>\n",
       "      <td>8.433406</td>\n",
       "      <td>3.436287</td>\n",
       "      <td>1.421675</td>\n",
       "      <td>1.111831</td>\n",
       "      <td>66.952223</td>\n",
       "      <td>14.836788</td>\n",
       "      <td>4.384873</td>\n",
       "      <td>6.478772</td>\n",
       "      <td>39058.116188</td>\n",
       "      <td>...</td>\n",
       "      <td>0.226277</td>\n",
       "      <td>0.673238</td>\n",
       "      <td>1.098489</td>\n",
       "      <td>0.495749</td>\n",
       "      <td>0.260268</td>\n",
       "      <td>1.318258</td>\n",
       "      <td>12.883211</td>\n",
       "      <td>6.034995</td>\n",
       "      <td>4.285452</td>\n",
       "      <td>13.330998</td>\n",
       "    </tr>\n",
       "    <tr>\n",
       "      <th>min</th>\n",
       "      <td>1.000000</td>\n",
       "      <td>0.000000</td>\n",
       "      <td>0.000000</td>\n",
       "      <td>2.000000</td>\n",
       "      <td>1.000000</td>\n",
       "      <td>118.000000</td>\n",
       "      <td>5.000000</td>\n",
       "      <td>1.000000</td>\n",
       "      <td>27.000000</td>\n",
       "      <td>205917.000000</td>\n",
       "      <td>...</td>\n",
       "      <td>0.000000</td>\n",
       "      <td>1.000000</td>\n",
       "      <td>0.000000</td>\n",
       "      <td>0.000000</td>\n",
       "      <td>0.000000</td>\n",
       "      <td>0.000000</td>\n",
       "      <td>56.000000</td>\n",
       "      <td>163.000000</td>\n",
       "      <td>19.000000</td>\n",
       "      <td>0.000000</td>\n",
       "    </tr>\n",
       "    <tr>\n",
       "      <th>25%</th>\n",
       "      <td>9.000000</td>\n",
       "      <td>13.000000</td>\n",
       "      <td>3.000000</td>\n",
       "      <td>3.000000</td>\n",
       "      <td>2.000000</td>\n",
       "      <td>179.000000</td>\n",
       "      <td>16.000000</td>\n",
       "      <td>9.000000</td>\n",
       "      <td>31.000000</td>\n",
       "      <td>244387.000000</td>\n",
       "      <td>...</td>\n",
       "      <td>0.000000</td>\n",
       "      <td>1.000000</td>\n",
       "      <td>0.000000</td>\n",
       "      <td>0.000000</td>\n",
       "      <td>0.000000</td>\n",
       "      <td>0.000000</td>\n",
       "      <td>69.000000</td>\n",
       "      <td>169.000000</td>\n",
       "      <td>24.000000</td>\n",
       "      <td>2.000000</td>\n",
       "    </tr>\n",
       "    <tr>\n",
       "      <th>50%</th>\n",
       "      <td>18.000000</td>\n",
       "      <td>23.000000</td>\n",
       "      <td>6.000000</td>\n",
       "      <td>4.000000</td>\n",
       "      <td>3.000000</td>\n",
       "      <td>225.000000</td>\n",
       "      <td>26.000000</td>\n",
       "      <td>13.000000</td>\n",
       "      <td>37.000000</td>\n",
       "      <td>264249.000000</td>\n",
       "      <td>...</td>\n",
       "      <td>0.000000</td>\n",
       "      <td>1.000000</td>\n",
       "      <td>1.000000</td>\n",
       "      <td>1.000000</td>\n",
       "      <td>0.000000</td>\n",
       "      <td>0.000000</td>\n",
       "      <td>83.000000</td>\n",
       "      <td>170.000000</td>\n",
       "      <td>25.000000</td>\n",
       "      <td>3.000000</td>\n",
       "    </tr>\n",
       "    <tr>\n",
       "      <th>75%</th>\n",
       "      <td>28.000000</td>\n",
       "      <td>26.000000</td>\n",
       "      <td>9.000000</td>\n",
       "      <td>5.000000</td>\n",
       "      <td>4.000000</td>\n",
       "      <td>260.000000</td>\n",
       "      <td>50.000000</td>\n",
       "      <td>16.000000</td>\n",
       "      <td>40.000000</td>\n",
       "      <td>294217.000000</td>\n",
       "      <td>...</td>\n",
       "      <td>0.000000</td>\n",
       "      <td>1.000000</td>\n",
       "      <td>2.000000</td>\n",
       "      <td>1.000000</td>\n",
       "      <td>0.000000</td>\n",
       "      <td>1.000000</td>\n",
       "      <td>89.000000</td>\n",
       "      <td>172.000000</td>\n",
       "      <td>31.000000</td>\n",
       "      <td>8.000000</td>\n",
       "    </tr>\n",
       "    <tr>\n",
       "      <th>max</th>\n",
       "      <td>36.000000</td>\n",
       "      <td>28.000000</td>\n",
       "      <td>12.000000</td>\n",
       "      <td>6.000000</td>\n",
       "      <td>4.000000</td>\n",
       "      <td>388.000000</td>\n",
       "      <td>52.000000</td>\n",
       "      <td>29.000000</td>\n",
       "      <td>58.000000</td>\n",
       "      <td>378884.000000</td>\n",
       "      <td>...</td>\n",
       "      <td>1.000000</td>\n",
       "      <td>4.000000</td>\n",
       "      <td>4.000000</td>\n",
       "      <td>1.000000</td>\n",
       "      <td>1.000000</td>\n",
       "      <td>8.000000</td>\n",
       "      <td>108.000000</td>\n",
       "      <td>196.000000</td>\n",
       "      <td>38.000000</td>\n",
       "      <td>120.000000</td>\n",
       "    </tr>\n",
       "  </tbody>\n",
       "</table>\n",
       "<p>8 rows × 21 columns</p>\n",
       "</div>"
      ],
      "text/plain": [
       "               ID  Reason for absence  Month of absence  Day of the week  \\\n",
       "count  740.000000          740.000000        740.000000       740.000000   \n",
       "mean    18.017568           19.216216          6.324324         3.914865   \n",
       "std     11.021247            8.433406          3.436287         1.421675   \n",
       "min      1.000000            0.000000          0.000000         2.000000   \n",
       "25%      9.000000           13.000000          3.000000         3.000000   \n",
       "50%     18.000000           23.000000          6.000000         4.000000   \n",
       "75%     28.000000           26.000000          9.000000         5.000000   \n",
       "max     36.000000           28.000000         12.000000         6.000000   \n",
       "\n",
       "          Seasons  Transportation expense  Distance from Residence to Work  \\\n",
       "count  740.000000              740.000000                       740.000000   \n",
       "mean     2.544595              221.329730                        29.631081   \n",
       "std      1.111831               66.952223                        14.836788   \n",
       "min      1.000000              118.000000                         5.000000   \n",
       "25%      2.000000              179.000000                        16.000000   \n",
       "50%      3.000000              225.000000                        26.000000   \n",
       "75%      4.000000              260.000000                        50.000000   \n",
       "max      4.000000              388.000000                        52.000000   \n",
       "\n",
       "       Service time         Age  Work_Load_Avg_per_day  \\\n",
       "count    740.000000  740.000000             740.000000   \n",
       "mean      12.554054   36.450000          271490.235135   \n",
       "std        4.384873    6.478772           39058.116188   \n",
       "min        1.000000   27.000000          205917.000000   \n",
       "25%        9.000000   31.000000          244387.000000   \n",
       "50%       13.000000   37.000000          264249.000000   \n",
       "75%       16.000000   40.000000          294217.000000   \n",
       "max       29.000000   58.000000          378884.000000   \n",
       "\n",
       "                 ...              Disciplinary failure   Education  \\\n",
       "count            ...                        740.000000  740.000000   \n",
       "mean             ...                          0.054054    1.291892   \n",
       "std              ...                          0.226277    0.673238   \n",
       "min              ...                          0.000000    1.000000   \n",
       "25%              ...                          0.000000    1.000000   \n",
       "50%              ...                          0.000000    1.000000   \n",
       "75%              ...                          0.000000    1.000000   \n",
       "max              ...                          1.000000    4.000000   \n",
       "\n",
       "              Son  Social drinker  Social smoker         Pet      Weight  \\\n",
       "count  740.000000      740.000000     740.000000  740.000000  740.000000   \n",
       "mean     1.018919        0.567568       0.072973    0.745946   79.035135   \n",
       "std      1.098489        0.495749       0.260268    1.318258   12.883211   \n",
       "min      0.000000        0.000000       0.000000    0.000000   56.000000   \n",
       "25%      0.000000        0.000000       0.000000    0.000000   69.000000   \n",
       "50%      1.000000        1.000000       0.000000    0.000000   83.000000   \n",
       "75%      2.000000        1.000000       0.000000    1.000000   89.000000   \n",
       "max      4.000000        1.000000       1.000000    8.000000  108.000000   \n",
       "\n",
       "           Height  Body mass index  Absenteeism time in hours  \n",
       "count  740.000000       740.000000                 740.000000  \n",
       "mean   172.114865        26.677027                   6.924324  \n",
       "std      6.034995         4.285452                  13.330998  \n",
       "min    163.000000        19.000000                   0.000000  \n",
       "25%    169.000000        24.000000                   2.000000  \n",
       "50%    170.000000        25.000000                   3.000000  \n",
       "75%    172.000000        31.000000                   8.000000  \n",
       "max    196.000000        38.000000                 120.000000  \n",
       "\n",
       "[8 rows x 21 columns]"
      ]
     },
     "execution_count": 9,
     "metadata": {},
     "output_type": "execute_result"
    }
   ],
   "source": [
    "data.describe()"
   ]
  },
  {
   "cell_type": "code",
   "execution_count": 10,
   "metadata": {},
   "outputs": [
    {
     "data": {
      "text/plain": [
       "(740, 21)"
      ]
     },
     "execution_count": 10,
     "metadata": {},
     "output_type": "execute_result"
    }
   ],
   "source": [
    "data.shape"
   ]
  },
  {
   "cell_type": "code",
   "execution_count": 11,
   "metadata": {},
   "outputs": [
    {
     "data": {
      "text/plain": [
       "ID                                 False\n",
       "Reason for absence                 False\n",
       "Month of absence                   False\n",
       "Day of the week                    False\n",
       "Seasons                            False\n",
       "Transportation expense             False\n",
       "Distance from Residence to Work    False\n",
       "Service time                       False\n",
       "Age                                False\n",
       "Work_Load_Avg_per_day              False\n",
       "Hit target                         False\n",
       "Disciplinary failure               False\n",
       "Education                          False\n",
       "Son                                False\n",
       "Social drinker                     False\n",
       "Social smoker                      False\n",
       "Pet                                False\n",
       "Weight                             False\n",
       "Height                             False\n",
       "Body mass index                    False\n",
       "Absenteeism time in hours          False\n",
       "dtype: bool"
      ]
     },
     "execution_count": 11,
     "metadata": {},
     "output_type": "execute_result"
    }
   ],
   "source": [
    "data.isnull().any()"
   ]
  },
  {
   "cell_type": "markdown",
   "metadata": {},
   "source": [
    "### Training the Data: \n",
    "\n",
    " - Creating the X columns to train the data.\n",
    " - From the available 21 attribute it has been observe that following attribute can be eliminated since they \n",
    "      do not contribute towards  Target attribute that is Absenteeism time in hours .\n",
    " - ID -> Since every ID represent its unique feature of disease which I am not considering here.\n",
    " - From following attribute we are trying to understand the reason behind the absenteeism time hence I have\n",
    "      included all possible columns for the analysis."
   ]
  },
  {
   "cell_type": "code",
   "execution_count": 12,
   "metadata": {},
   "outputs": [],
   "source": [
    "x=data.drop(['Absenteeism time in hours','ID'], axis=1)"
   ]
  },
  {
   "cell_type": "code",
   "execution_count": 13,
   "metadata": {},
   "outputs": [
    {
     "data": {
      "text/plain": [
       "Index(['ID', 'Reason for absence', 'Month of absence', 'Day of the week',\n",
       "       'Seasons', 'Transportation expense', 'Distance from Residence to Work',\n",
       "       'Service time', 'Age', 'Work_Load_Avg_per_day', 'Hit target',\n",
       "       'Disciplinary failure', 'Education', 'Son', 'Social drinker',\n",
       "       'Social smoker', 'Pet', 'Weight', 'Height', 'Body mass index',\n",
       "       'Absenteeism time in hours'],\n",
       "      dtype='object')"
      ]
     },
     "execution_count": 13,
     "metadata": {},
     "output_type": "execute_result"
    }
   ],
   "source": [
    "data.columns"
   ]
  },
  {
   "cell_type": "code",
   "execution_count": 14,
   "metadata": {},
   "outputs": [
    {
     "data": {
      "text/plain": [
       "(740, 19)"
      ]
     },
     "execution_count": 14,
     "metadata": {},
     "output_type": "execute_result"
    }
   ],
   "source": [
    "x.shape"
   ]
  },
  {
   "cell_type": "code",
   "execution_count": 15,
   "metadata": {
    "scrolled": false
   },
   "outputs": [
    {
     "data": {
      "text/html": [
       "<div>\n",
       "<style scoped>\n",
       "    .dataframe tbody tr th:only-of-type {\n",
       "        vertical-align: middle;\n",
       "    }\n",
       "\n",
       "    .dataframe tbody tr th {\n",
       "        vertical-align: top;\n",
       "    }\n",
       "\n",
       "    .dataframe thead th {\n",
       "        text-align: right;\n",
       "    }\n",
       "</style>\n",
       "<table border=\"1\" class=\"dataframe\">\n",
       "  <thead>\n",
       "    <tr style=\"text-align: right;\">\n",
       "      <th></th>\n",
       "      <th>Reason for absence</th>\n",
       "      <th>Month of absence</th>\n",
       "      <th>Day of the week</th>\n",
       "      <th>Seasons</th>\n",
       "      <th>Transportation expense</th>\n",
       "      <th>Distance from Residence to Work</th>\n",
       "      <th>Service time</th>\n",
       "      <th>Age</th>\n",
       "      <th>Work_Load_Avg_per_day</th>\n",
       "      <th>Hit target</th>\n",
       "      <th>Disciplinary failure</th>\n",
       "      <th>Education</th>\n",
       "      <th>Son</th>\n",
       "      <th>Social drinker</th>\n",
       "      <th>Social smoker</th>\n",
       "      <th>Pet</th>\n",
       "      <th>Weight</th>\n",
       "      <th>Height</th>\n",
       "      <th>Body mass index</th>\n",
       "    </tr>\n",
       "  </thead>\n",
       "  <tbody>\n",
       "    <tr>\n",
       "      <th>0</th>\n",
       "      <td>26</td>\n",
       "      <td>7</td>\n",
       "      <td>3</td>\n",
       "      <td>1</td>\n",
       "      <td>289</td>\n",
       "      <td>36</td>\n",
       "      <td>13</td>\n",
       "      <td>33</td>\n",
       "      <td>239554.0</td>\n",
       "      <td>97</td>\n",
       "      <td>0</td>\n",
       "      <td>1</td>\n",
       "      <td>2</td>\n",
       "      <td>1</td>\n",
       "      <td>0</td>\n",
       "      <td>1</td>\n",
       "      <td>90</td>\n",
       "      <td>172</td>\n",
       "      <td>30</td>\n",
       "    </tr>\n",
       "    <tr>\n",
       "      <th>1</th>\n",
       "      <td>0</td>\n",
       "      <td>7</td>\n",
       "      <td>3</td>\n",
       "      <td>1</td>\n",
       "      <td>118</td>\n",
       "      <td>13</td>\n",
       "      <td>18</td>\n",
       "      <td>50</td>\n",
       "      <td>239554.0</td>\n",
       "      <td>97</td>\n",
       "      <td>1</td>\n",
       "      <td>1</td>\n",
       "      <td>1</td>\n",
       "      <td>1</td>\n",
       "      <td>0</td>\n",
       "      <td>0</td>\n",
       "      <td>98</td>\n",
       "      <td>178</td>\n",
       "      <td>31</td>\n",
       "    </tr>\n",
       "    <tr>\n",
       "      <th>2</th>\n",
       "      <td>23</td>\n",
       "      <td>7</td>\n",
       "      <td>4</td>\n",
       "      <td>1</td>\n",
       "      <td>179</td>\n",
       "      <td>51</td>\n",
       "      <td>18</td>\n",
       "      <td>38</td>\n",
       "      <td>239554.0</td>\n",
       "      <td>97</td>\n",
       "      <td>0</td>\n",
       "      <td>1</td>\n",
       "      <td>0</td>\n",
       "      <td>1</td>\n",
       "      <td>0</td>\n",
       "      <td>0</td>\n",
       "      <td>89</td>\n",
       "      <td>170</td>\n",
       "      <td>31</td>\n",
       "    </tr>\n",
       "  </tbody>\n",
       "</table>\n",
       "</div>"
      ],
      "text/plain": [
       "   Reason for absence  Month of absence  Day of the week  Seasons  \\\n",
       "0                  26                 7                3        1   \n",
       "1                   0                 7                3        1   \n",
       "2                  23                 7                4        1   \n",
       "\n",
       "   Transportation expense  Distance from Residence to Work  Service time  Age  \\\n",
       "0                     289                               36            13   33   \n",
       "1                     118                               13            18   50   \n",
       "2                     179                               51            18   38   \n",
       "\n",
       "   Work_Load_Avg_per_day  Hit target  Disciplinary failure  Education  Son  \\\n",
       "0               239554.0          97                     0          1    2   \n",
       "1               239554.0          97                     1          1    1   \n",
       "2               239554.0          97                     0          1    0   \n",
       "\n",
       "   Social drinker  Social smoker  Pet  Weight  Height  Body mass index  \n",
       "0               1              0    1      90     172               30  \n",
       "1               1              0    0      98     178               31  \n",
       "2               1              0    0      89     170               31  "
      ]
     },
     "execution_count": 15,
     "metadata": {},
     "output_type": "execute_result"
    }
   ],
   "source": [
    "x.head(3)"
   ]
  },
  {
   "cell_type": "markdown",
   "metadata": {},
   "source": [
    "### Declare the Y that is Target.\n",
    "\n",
    "- Using attribute Absenteeism time in hours as the target. Analysing the Absenteeism time in hours attributes"
   ]
  },
  {
   "cell_type": "code",
   "execution_count": 16,
   "metadata": {},
   "outputs": [
    {
     "data": {
      "image/png": "[encoded data removed]",
      "text/plain": [
       "<Figure size 432x288 with 1 Axes>"
      ]
     },
     "metadata": {},
     "output_type": "display_data"
    }
   ],
   "source": [
    "plt.hist(data['Absenteeism time in hours'])\n",
    "plt.show()"
   ]
  },
  {
   "cell_type": "markdown",
   "metadata": {},
   "source": [
    "### Understanding the Absenteeism data is to interpret into two sections"
   ]
  },
  {
   "cell_type": "code",
   "execution_count": 17,
   "metadata": {},
   "outputs": [
    {
     "data": {
      "text/plain": [
       "count    740.000000\n",
       "mean       6.924324\n",
       "std       13.330998\n",
       "min        0.000000\n",
       "25%        2.000000\n",
       "50%        3.000000\n",
       "75%        8.000000\n",
       "max      120.000000\n",
       "Name: Absenteeism time in hours, dtype: float64"
      ]
     },
     "execution_count": 17,
     "metadata": {},
     "output_type": "execute_result"
    }
   ],
   "source": [
    "data['Absenteeism time in hours'].describe()"
   ]
  },
  {
   "cell_type": "markdown",
   "metadata": {},
   "source": [
    "## Creating a new attribute as Category to be used as Target attribute"
   ]
  },
  {
   "cell_type": "markdown",
   "metadata": {},
   "source": [
    "The Columns are identified as either 1 or 2 on following basis\n",
    "\n",
    "Category 1 - The abseteeism time in work that are shared less then 50% that is less than value 3 -> The issue isn't that serious for an Employee.\n",
    "\n",
    "Category 2 - The abseteeism time in work that are shared more then 50% that is more than value 3 -> The Employee is suffuring with some issue. "
   ]
  },
  {
   "cell_type": "code",
   "execution_count": 18,
   "metadata": {},
   "outputs": [],
   "source": [
    "data_class = data['Absenteeism time in hours']\n",
    "data['category'] = (data_class<=3)*1 | (data_class>3)*2"
   ]
  },
  {
   "cell_type": "markdown",
   "metadata": {},
   "source": [
    "### Ploting the category data"
   ]
  },
  {
   "cell_type": "code",
   "execution_count": 19,
   "metadata": {},
   "outputs": [
    {
     "data": {
      "image/png": "[encoded data removed]",
      "text/plain": [
       "<Figure size 432x288 with 1 Axes>"
      ]
     },
     "metadata": {},
     "output_type": "display_data"
    }
   ],
   "source": [
    "plt.hist(data['category'])\n",
    "plt.show()"
   ]
  },
  {
   "cell_type": "code",
   "execution_count": 20,
   "metadata": {},
   "outputs": [
    {
     "data": {
      "text/html": [
       "<div>\n",
       "<style scoped>\n",
       "    .dataframe tbody tr th:only-of-type {\n",
       "        vertical-align: middle;\n",
       "    }\n",
       "\n",
       "    .dataframe tbody tr th {\n",
       "        vertical-align: top;\n",
       "    }\n",
       "\n",
       "    .dataframe thead th {\n",
       "        text-align: right;\n",
       "    }\n",
       "</style>\n",
       "<table border=\"1\" class=\"dataframe\">\n",
       "  <thead>\n",
       "    <tr style=\"text-align: right;\">\n",
       "      <th></th>\n",
       "      <th>ID</th>\n",
       "      <th>Reason for absence</th>\n",
       "      <th>Month of absence</th>\n",
       "      <th>Day of the week</th>\n",
       "      <th>Seasons</th>\n",
       "      <th>Transportation expense</th>\n",
       "      <th>Distance from Residence to Work</th>\n",
       "      <th>Service time</th>\n",
       "      <th>Age</th>\n",
       "      <th>Work_Load_Avg_per_day</th>\n",
       "      <th>...</th>\n",
       "      <th>Education</th>\n",
       "      <th>Son</th>\n",
       "      <th>Social drinker</th>\n",
       "      <th>Social smoker</th>\n",
       "      <th>Pet</th>\n",
       "      <th>Weight</th>\n",
       "      <th>Height</th>\n",
       "      <th>Body mass index</th>\n",
       "      <th>Absenteeism time in hours</th>\n",
       "      <th>category</th>\n",
       "    </tr>\n",
       "  </thead>\n",
       "  <tbody>\n",
       "    <tr>\n",
       "      <th>0</th>\n",
       "      <td>11</td>\n",
       "      <td>26</td>\n",
       "      <td>7</td>\n",
       "      <td>3</td>\n",
       "      <td>1</td>\n",
       "      <td>289</td>\n",
       "      <td>36</td>\n",
       "      <td>13</td>\n",
       "      <td>33</td>\n",
       "      <td>239554.0</td>\n",
       "      <td>...</td>\n",
       "      <td>1</td>\n",
       "      <td>2</td>\n",
       "      <td>1</td>\n",
       "      <td>0</td>\n",
       "      <td>1</td>\n",
       "      <td>90</td>\n",
       "      <td>172</td>\n",
       "      <td>30</td>\n",
       "      <td>4</td>\n",
       "      <td>2</td>\n",
       "    </tr>\n",
       "    <tr>\n",
       "      <th>1</th>\n",
       "      <td>36</td>\n",
       "      <td>0</td>\n",
       "      <td>7</td>\n",
       "      <td>3</td>\n",
       "      <td>1</td>\n",
       "      <td>118</td>\n",
       "      <td>13</td>\n",
       "      <td>18</td>\n",
       "      <td>50</td>\n",
       "      <td>239554.0</td>\n",
       "      <td>...</td>\n",
       "      <td>1</td>\n",
       "      <td>1</td>\n",
       "      <td>1</td>\n",
       "      <td>0</td>\n",
       "      <td>0</td>\n",
       "      <td>98</td>\n",
       "      <td>178</td>\n",
       "      <td>31</td>\n",
       "      <td>0</td>\n",
       "      <td>1</td>\n",
       "    </tr>\n",
       "    <tr>\n",
       "      <th>2</th>\n",
       "      <td>3</td>\n",
       "      <td>23</td>\n",
       "      <td>7</td>\n",
       "      <td>4</td>\n",
       "      <td>1</td>\n",
       "      <td>179</td>\n",
       "      <td>51</td>\n",
       "      <td>18</td>\n",
       "      <td>38</td>\n",
       "      <td>239554.0</td>\n",
       "      <td>...</td>\n",
       "      <td>1</td>\n",
       "      <td>0</td>\n",
       "      <td>1</td>\n",
       "      <td>0</td>\n",
       "      <td>0</td>\n",
       "      <td>89</td>\n",
       "      <td>170</td>\n",
       "      <td>31</td>\n",
       "      <td>2</td>\n",
       "      <td>1</td>\n",
       "    </tr>\n",
       "  </tbody>\n",
       "</table>\n",
       "<p>3 rows × 22 columns</p>\n",
       "</div>"
      ],
      "text/plain": [
       "   ID  Reason for absence  Month of absence  Day of the week  Seasons  \\\n",
       "0  11                  26                 7                3        1   \n",
       "1  36                   0                 7                3        1   \n",
       "2   3                  23                 7                4        1   \n",
       "\n",
       "   Transportation expense  Distance from Residence to Work  Service time  Age  \\\n",
       "0                     289                               36            13   33   \n",
       "1                     118                               13            18   50   \n",
       "2                     179                               51            18   38   \n",
       "\n",
       "   Work_Load_Avg_per_day    ...     Education  Son  Social drinker  \\\n",
       "0               239554.0    ...             1    2               1   \n",
       "1               239554.0    ...             1    1               1   \n",
       "2               239554.0    ...             1    0               1   \n",
       "\n",
       "   Social smoker  Pet  Weight  Height  Body mass index  \\\n",
       "0              0    1      90     172               30   \n",
       "1              0    0      98     178               31   \n",
       "2              0    0      89     170               31   \n",
       "\n",
       "   Absenteeism time in hours  category  \n",
       "0                          4         2  \n",
       "1                          0         1  \n",
       "2                          2         1  \n",
       "\n",
       "[3 rows x 22 columns]"
      ]
     },
     "execution_count": 20,
     "metadata": {},
     "output_type": "execute_result"
    }
   ],
   "source": [
    "data.head(3)"
   ]
  },
  {
   "cell_type": "code",
   "execution_count": 21,
   "metadata": {},
   "outputs": [
    {
     "data": {
      "text/plain": [
       "(740, 22)"
      ]
     },
     "execution_count": 21,
     "metadata": {},
     "output_type": "execute_result"
    }
   ],
   "source": [
    "data.shape"
   ]
  },
  {
   "cell_type": "markdown",
   "metadata": {},
   "source": [
    "### Category is added to the Data as 22 attribute and will be used as target"
   ]
  },
  {
   "cell_type": "code",
   "execution_count": 22,
   "metadata": {},
   "outputs": [],
   "source": [
    "y = data['category']"
   ]
  },
  {
   "cell_type": "code",
   "execution_count": 23,
   "metadata": {},
   "outputs": [
    {
     "data": {
      "text/plain": [
       "(740, 19)"
      ]
     },
     "execution_count": 23,
     "metadata": {},
     "output_type": "execute_result"
    }
   ],
   "source": [
    "# Checking the X and Y\n",
    "x.shape"
   ]
  },
  {
   "cell_type": "code",
   "execution_count": 24,
   "metadata": {},
   "outputs": [
    {
     "data": {
      "text/plain": [
       "(740,)"
      ]
     },
     "execution_count": 24,
     "metadata": {},
     "output_type": "execute_result"
    }
   ],
   "source": [
    "y.shape"
   ]
  },
  {
   "cell_type": "markdown",
   "metadata": {},
   "source": [
    "### Splitting the data into training and test data taking 20% from the overall data as test data and 80% as training data"
   ]
  },
  {
   "cell_type": "code",
   "execution_count": 25,
   "metadata": {},
   "outputs": [],
   "source": [
    "X_train, X_test, y_train, y_test = train_test_split(x, y, test_size=0.20, random_state=100)"
   ]
  },
  {
   "cell_type": "markdown",
   "metadata": {},
   "source": [
    "### Verifying the Data"
   ]
  },
  {
   "cell_type": "code",
   "execution_count": 26,
   "metadata": {},
   "outputs": [
    {
     "data": {
      "text/plain": [
       "(592, 19)"
      ]
     },
     "execution_count": 26,
     "metadata": {},
     "output_type": "execute_result"
    }
   ],
   "source": [
    "X_train.shape"
   ]
  },
  {
   "cell_type": "code",
   "execution_count": 27,
   "metadata": {},
   "outputs": [
    {
     "data": {
      "text/plain": [
       "(592,)"
      ]
     },
     "execution_count": 27,
     "metadata": {},
     "output_type": "execute_result"
    }
   ],
   "source": [
    "y_train.shape"
   ]
  },
  {
   "cell_type": "code",
   "execution_count": 28,
   "metadata": {},
   "outputs": [
    {
     "data": {
      "text/plain": [
       "(148, 19)"
      ]
     },
     "execution_count": 28,
     "metadata": {},
     "output_type": "execute_result"
    }
   ],
   "source": [
    "X_test.shape"
   ]
  },
  {
   "cell_type": "code",
   "execution_count": 29,
   "metadata": {},
   "outputs": [
    {
     "data": {
      "text/plain": [
       "(148,)"
      ]
     },
     "execution_count": 29,
     "metadata": {},
     "output_type": "execute_result"
    }
   ],
   "source": [
    "y_test.shape"
   ]
  },
  {
   "cell_type": "markdown",
   "metadata": {},
   "source": [
    "## Training Data Analysis and Identifying the most relevant attributes\n",
    "\n",
    "#### Using Decision Tree Classifier for finding accuracy of training data. \n",
    "\n"
   ]
  },
  {
   "cell_type": "code",
   "execution_count": 30,
   "metadata": {},
   "outputs": [
    {
     "name": "stdout",
     "output_type": "stream",
     "text": [
      "<class 'sklearn.tree.tree.DecisionTreeClassifier'>\n"
     ]
    }
   ],
   "source": [
    "rank_classifier = DecisionTreeClassifier(max_leaf_nodes=10, random_state=100)\n",
    "rank_classifier.fit(X_train,y_train)\n",
    "print(type(rank_classifier))\n",
    "Predictions_train = rank_classifier.predict(X_train)"
   ]
  },
  {
   "cell_type": "code",
   "execution_count": 31,
   "metadata": {},
   "outputs": [
    {
     "name": "stdout",
     "output_type": "stream",
     "text": [
      "Training Data Acuracy-\n",
      "0.8057432432432432\n"
     ]
    }
   ],
   "source": [
    "# Verifying the accuracy\n",
    "\n",
    "Training_Accuracy = accuracy_score(y_true = y_train, y_pred = Predictions_train)\n",
    "\n",
    "print(\"Training Data Acuracy-\")\n",
    "print(Training_Accuracy)"
   ]
  },
  {
   "cell_type": "markdown",
   "metadata": {},
   "source": [
    "## Using Recursive feature elimination for identifying the most relevant attributes\n",
    "\n",
    "Recursive Feature Elimination or RFE uses a model ( eg. linear Regression or SVM) to select either the best or worst-performing feature, and then excludes that feature. The whole process is then iterated until all features in the dataset are used up ( or up to a user-defined limit). Sklearn conveniently possesses a RFE function via the sklearn.feature_selection call and I use this along with a simple linear regression model and loistic regression model for ranking the features and to decide on the attribute for the model building.\n",
    "\n"
   ]
  },
  {
   "cell_type": "code",
   "execution_count": 32,
   "metadata": {},
   "outputs": [
    {
     "name": "stdout",
     "output_type": "stream",
     "text": [
      "[False False False False False False False False False False  True False\n",
      " False False False False False False False]\n",
      "[11 14  6 10 15 17 13 16 19 18  1  5  3  2  4 12  8  9  7]\n"
     ]
    }
   ],
   "source": [
    "from sklearn.feature_selection import RFE\n",
    "from sklearn.linear_model import LinearRegression\n",
    "#use linear regression as the model\n",
    "lr = LinearRegression()\n",
    "rfe = RFE(lr, n_features_to_select=1)\n",
    "rfe.fit(x,y)\n",
    "print(rfe.support_)\n",
    "print(rfe.ranking_)"
   ]
  },
  {
   "cell_type": "code",
   "execution_count": 33,
   "metadata": {},
   "outputs": [
    {
     "name": "stdout",
     "output_type": "stream",
     "text": [
      "[False False False False False False False False False False  True False\n",
      " False False False False False False False]\n",
      "[ 7  8  4  6 17 18 11 14 19 13  1  5  2  3  9 10 15 16 12]\n"
     ]
    }
   ],
   "source": [
    "from sklearn.feature_selection import RFE\n",
    "from sklearn.linear_model import LogisticRegression\n",
    "#use logistic regression as the model\n",
    "lr = LogisticRegression()\n",
    "rfe = RFE(lr, n_features_to_select=1)\n",
    "rfe.fit(x,y)\n",
    "print(rfe.support_)\n",
    "print(rfe.ranking_)"
   ]
  },
  {
   "cell_type": "code",
   "execution_count": 34,
   "metadata": {
    "scrolled": true
   },
   "outputs": [
    {
     "data": {
      "text/plain": [
       "['Reason for absence',\n",
       " 'Month of absence',\n",
       " 'Day of the week',\n",
       " 'Seasons',\n",
       " 'Transportation expense',\n",
       " 'Distance from Residence to Work',\n",
       " 'Service time',\n",
       " 'Age',\n",
       " 'Work_Load_Avg_per_day',\n",
       " 'Hit target',\n",
       " 'Disciplinary failure',\n",
       " 'Education',\n",
       " 'Son',\n",
       " 'Social drinker',\n",
       " 'Social smoker',\n",
       " 'Pet',\n",
       " 'Weight',\n",
       " 'Height',\n",
       " 'Body mass index']"
      ]
     },
     "execution_count": 34,
     "metadata": {},
     "output_type": "execute_result"
    }
   ],
   "source": [
    "list(x)"
   ]
  },
  {
   "cell_type": "code",
   "execution_count": 35,
   "metadata": {},
   "outputs": [],
   "source": [
    "x_New = data[['Disciplinary failure','Social drinker','Son','Social smoker','Education','Day of the week','Height','Weight','Body mass index','Seasons','Reason for absence','Pet','Service time','Month of absence','Transportation expense','Age','Distance from Residence to Work','Hit target','Work_Load_Avg_per_day']]"
   ]
  },
  {
   "cell_type": "code",
   "execution_count": 36,
   "metadata": {},
   "outputs": [
    {
     "data": {
      "text/plain": [
       "(740, 19)"
      ]
     },
     "execution_count": 36,
     "metadata": {},
     "output_type": "execute_result"
    }
   ],
   "source": [
    "x_New.shape"
   ]
  },
  {
   "cell_type": "markdown",
   "metadata": {},
   "source": [
    "# Data Mining Algorithms\n",
    "\n"
   ]
  },
  {
   "cell_type": "markdown",
   "metadata": {},
   "source": [
    "## Classification Analysis:\n",
    "Classification is a data mining technique that assigns categories to a collection of data in order to aid in more accurate predictions and analysis. This method is utilized to recover critical and important information about a data set. It is utilized to organize information in various classes. Very large databases are becoming the norm in today's world of \"big data.\" The primary challenge of big data is how to make sense of it. And sheer volume is not the only problem: big data also tends to be diverse, unstructured and fast-changing. Consider audio and video data, social media posts, 3D data or geospatial data. This kind of data is not easily categorized or organized. To meet this challenge, a range of automatic methods for extracting useful information has been developed, among them classification.\n",
    "\n",
    "### Applications:\n",
    "Classification, and other data mining techniques, is behind much of our day-to-day experience as consumers. Weather predictions might make use of classification to report whether the day will be rainy, sunny or cloudy. The medical profession might analyze health conditions to predict medical outcomes. From fraud detection to product offers, classification is behind the scenes every day analyzing data and producing predictions."
   ]
  },
  {
   "cell_type": "markdown",
   "metadata": {},
   "source": [
    "## Category 3:  Decision tree implementation after feature selection\n",
    "A decision tree is a guide of the conceivable results of a progression of related choices. Decision tree is one of the most used techniques in data mining because of its simplicity to explain the results. Besides, there are decision tree algorithms that work with parallel and incremental techniques, which help to process large databases for classifying new objects faster than traditional algorithms.\n",
    "A decision tree ordinarily begins with a single node, which branches into conceivable results. \n",
    "\n",
    "### Applications:\n",
    "Decision trees are very “user-friendly” because they are easy to understand by practically everyone and provide reasonably accurate results. They provide an easy to analyze breakdown of the data and can be used practically in every business area that requires decision-making, including, but not limited to marketing, pharmacology, financial analysis, manufacturing, production, etc."
   ]
  },
  {
   "cell_type": "code",
   "execution_count": 37,
   "metadata": {},
   "outputs": [],
   "source": [
    "#splitting the data\n",
    "X_train, X_test, y_train, y_test = train_test_split(x_New, y, test_size=0.20, random_state=250)"
   ]
  },
  {
   "cell_type": "code",
   "execution_count": 38,
   "metadata": {},
   "outputs": [
    {
     "name": "stdout",
     "output_type": "stream",
     "text": [
      "<class 'sklearn.tree.tree.DecisionTreeClassifier'>\n"
     ]
    }
   ],
   "source": [
    "rank_classifier = DecisionTreeClassifier(max_leaf_nodes=10, random_state=0)\n",
    "rank_classifier.fit(X_train,y_train)\n",
    "print(type(rank_classifier))\n",
    "Predictions = rank_classifier.predict(X_test)"
   ]
  },
  {
   "cell_type": "code",
   "execution_count": 39,
   "metadata": {},
   "outputs": [
    {
     "data": {
      "text/plain": [
       "DecisionTreeClassifier(class_weight=None, criterion='gini', max_depth=None,\n",
       "            max_features=None, max_leaf_nodes=10,\n",
       "            min_impurity_decrease=0.0, min_impurity_split=None,\n",
       "            min_samples_leaf=1, min_samples_split=2,\n",
       "            min_weight_fraction_leaf=0.0, presort=False, random_state=0,\n",
       "            splitter='best')"
      ]
     },
     "execution_count": 39,
     "metadata": {},
     "output_type": "execute_result"
    }
   ],
   "source": [
    "rank_classifier.fit(X_train,y_train)"
   ]
  },
  {
   "cell_type": "code",
   "execution_count": 40,
   "metadata": {},
   "outputs": [
    {
     "data": {
      "text/plain": [
       "0.8243243243243243"
      ]
     },
     "execution_count": 40,
     "metadata": {},
     "output_type": "execute_result"
    }
   ],
   "source": [
    "#calculating the accuracy score\n",
    "Accuracy_DT = accuracy_score(y_true = y_test, y_pred = Predictions)\n",
    "Accuracy_DT"
   ]
  },
  {
   "cell_type": "code",
   "execution_count": 41,
   "metadata": {},
   "outputs": [
    {
     "name": "stdout",
     "output_type": "stream",
     "text": [
      "[[65 16]\n",
      " [10 57]]\n"
     ]
    }
   ],
   "source": [
    "from sklearn import metrics\n",
    "confusion=metrics.confusion_matrix(y_test, Predictions)\n",
    "print(confusion)\n",
    "TP_DT = confusion[1, 1]\n",
    "TN_DT = confusion[0, 0]\n",
    "FP_DT = confusion[0, 1]\n",
    "FN_DT = confusion[1, 0]"
   ]
  },
  {
   "cell_type": "code",
   "execution_count": 42,
   "metadata": {},
   "outputs": [
    {
     "name": "stdout",
     "output_type": "stream",
     "text": [
      "Misclassification Rate:  0.17567567567567566\n",
      "Precision:  0.8666666666666667\n",
      "recall:  0.8024691358024691\n",
      "F1_Score: 0.8333333333333334\n",
      "Sensitivity:  0.8507462686567164\n",
      "Specificity:  0.8024691358024691\n"
     ]
    }
   ],
   "source": [
    "# Calculating \"Misclassification Rate\"which represent how often is the classifier incorrect?\n",
    "Mis_Rate_DT = (1 - metrics.accuracy_score(y_test, Predictions))\n",
    "print(\"Misclassification Rate: \",Mis_Rate_DT)\n",
    "\n",
    "#Precision: When a positive value is predicted, how often is the prediction correct?\n",
    "precision_DT = metrics.precision_score(y_test, Predictions)\n",
    "print(\"Precision: \",precision_DT)\n",
    "\n",
    "#Recall:Recall is the fraction of the relevant results that are successfully retrieved.\n",
    "recall_DT = metrics.recall_score(y_test, Predictions)\n",
    "print(\"recall: \",recall_DT)\n",
    "\n",
    "#F1 Score: balanced F-score or F-measure which measure's test accuracy\n",
    "f1_DT=f1_score(y_test,Predictions)\n",
    "print(\"F1_Score:\", f1_DT)\n",
    "\n",
    "\n",
    "#Sensitivity: When the actual value is positive, how often is the prediction correct?\n",
    "#Also known as \"True Positive Rate\" or \"Recall\"\n",
    "sensitivity_DT = TP_DT / float(FN_DT + TP_DT)\n",
    "print(\"Sensitivity: \",sensitivity_DT)\n",
    "\n",
    "#Specificity: When the actual value is negative.\n",
    "specificity_DT = TN_DT / (TN_DT + FP_DT)\n",
    "print(\"Specificity: \",specificity_DT)\n"
   ]
  },
  {
   "cell_type": "code",
   "execution_count": 43,
   "metadata": {},
   "outputs": [
    {
     "name": "stdout",
     "output_type": "stream",
     "text": [
      "0.7579901271134147\n"
     ]
    }
   ],
   "source": [
    "#Cross Validation scoreDEPLOYMENT  \n",
    "scores_DT = cross_validation.cross_val_score(rank_classifier, x_New, y, cv=10).mean()\n",
    "print (scores_DT)"
   ]
  },
  {
   "cell_type": "code",
   "execution_count": 44,
   "metadata": {},
   "outputs": [],
   "source": [
    "#from sklearn.preprocessing import label_binarize.Calculating fpr,tpr for ROC.\n",
    "\n",
    "y_pred_prob = rank_classifier.predict_proba(X_test)[:, 1]\n",
    "\n",
    "fpr, tpr, thresholds = metrics.roc_curve(y_test,y_pred_prob,pos_label=2)"
   ]
  },
  {
   "cell_type": "code",
   "execution_count": 45,
   "metadata": {},
   "outputs": [],
   "source": [
    "roc_auc = auc(fpr, tpr)"
   ]
  },
  {
   "cell_type": "code",
   "execution_count": 46,
   "metadata": {
    "scrolled": true
   },
   "outputs": [
    {
     "data": {
      "image/png": "[encoded data removed]",
      "text/plain": [
       "<Figure size 432x288 with 1 Axes>"
      ]
     },
     "metadata": {},
     "output_type": "display_data"
    }
   ],
   "source": [
    "plt.title('ROC(Receiver Operating Characteristic)')\n",
    "plt.plot(fpr, tpr, 'b', label='AUC = %0.5f'% roc_auc)\n",
    "plt.legend(loc='lower right')\n",
    "plt.rcParams['font.size'] = 10\n",
    "plt.plot([1,0],[1,0],'r--')\n",
    "plt.xlim([0.0,1.0])\n",
    "plt.ylim([0.0,1.0])\n",
    "plt.ylabel('True Positive Rate (TPR) ,[Sensitivity]')\n",
    "plt.xlabel('False Positive Rate (FPR),[1 - Specificity]')\n",
    "plt.grid(True)\n",
    "plt.show()"
   ]
  },
  {
   "cell_type": "code",
   "execution_count": 47,
   "metadata": {},
   "outputs": [],
   "source": [
    "def evaluate_threshold(threshold):\n",
    "    print('Sensitivity:', tpr[thresholds > threshold][-1])\n",
    "    print('Specificity:', 1 - fpr[thresholds > threshold][-1])"
   ]
  },
  {
   "cell_type": "code",
   "execution_count": 48,
   "metadata": {
    "scrolled": true
   },
   "outputs": [
    {
     "name": "stdout",
     "output_type": "stream",
     "text": [
      "Sensitivity: 0.8507462686567164\n",
      "Specificity: 0.8024691358024691\n"
     ]
    }
   ],
   "source": [
    "evaluate_threshold(0.5)"
   ]
  },
  {
   "cell_type": "code",
   "execution_count": 49,
   "metadata": {},
   "outputs": [
    {
     "data": {
      "text/plain": [
       "0.8462093123888312"
      ]
     },
     "execution_count": 49,
     "metadata": {},
     "output_type": "execute_result"
    }
   ],
   "source": [
    "#loss function\n",
    "from sklearn.metrics import log_loss\n",
    "Loss_DT = log_loss(y_test,y_pred_prob)\n",
    "Loss_DT"
   ]
  },
  {
   "cell_type": "markdown",
   "metadata": {},
   "source": [
    "# Support Vector Machine(SVM)\n",
    "A Support Vector Machine (SVM) is a discriminative classifier formally defined by a separating hyperplane. In other words, given labelled training data (supervised learning), the algorithm outputs an optimal hyperplane which categorizes new examples. In two-dimensional space this hyperplane is a line dividing a plane in two parts where in each class lay in either side.\n",
    "\n",
    "## Category 1 : LIBSVM radial basis function (RBF) kernel\n",
    "\n",
    "Here I am using (radial basis fucntion) RBF kernal for SVM algorithm.\n",
    "\n",
    "## Applications\n",
    "As we have seen, SVMs depends on supervised learning algorithms. The aim of using SVM is to correctly classify unseen data. SVMs have several applications in several fields. Some common applications of SVM are- Face detection, Text and hypertext categorization, Classification of images , Bioinformatics, Protein fold and remote homology detection , Handwriting recognition , Generalized predictive control(GPC)"
   ]
  },
  {
   "cell_type": "code",
   "execution_count": 50,
   "metadata": {},
   "outputs": [],
   "source": [
    "from sklearn import svm"
   ]
  },
  {
   "cell_type": "code",
   "execution_count": 51,
   "metadata": {},
   "outputs": [],
   "source": [
    "X_train, X_test, y_train, y_test = train_test_split(x_New, y, test_size=0.20, random_state=250)"
   ]
  },
  {
   "cell_type": "code",
   "execution_count": 52,
   "metadata": {},
   "outputs": [],
   "source": [
    "svm_classifier = svm.SVC(probability=True)"
   ]
  },
  {
   "cell_type": "code",
   "execution_count": 53,
   "metadata": {},
   "outputs": [
    {
     "data": {
      "text/plain": [
       "SVC(C=1.0, cache_size=200, class_weight=None, coef0=0.0,\n",
       "  decision_function_shape='ovr', degree=3, gamma='auto', kernel='rbf',\n",
       "  max_iter=-1, probability=True, random_state=None, shrinking=True,\n",
       "  tol=0.001, verbose=False)"
      ]
     },
     "execution_count": 53,
     "metadata": {},
     "output_type": "execute_result"
    }
   ],
   "source": [
    "svm_classifier.fit(X_train,y_train)"
   ]
  },
  {
   "cell_type": "code",
   "execution_count": 54,
   "metadata": {},
   "outputs": [
    {
     "data": {
      "text/plain": [
       "0.7094594594594594"
      ]
     },
     "execution_count": 54,
     "metadata": {},
     "output_type": "execute_result"
    }
   ],
   "source": [
    "Predictions_svm = svm_classifier.predict(X_test)\n",
    "Accuracy_SVM = accuracy_score(y_true = y_test, y_pred = Predictions_svm)\n",
    "Accuracy_SVM"
   ]
  },
  {
   "cell_type": "code",
   "execution_count": 55,
   "metadata": {},
   "outputs": [
    {
     "name": "stdout",
     "output_type": "stream",
     "text": [
      "[[43 38]\n",
      " [ 5 62]]\n"
     ]
    }
   ],
   "source": [
    "confusion_matrix(y_test,Predictions_svm)\n",
    "from sklearn import metrics\n",
    "confusion=metrics.confusion_matrix(y_test, Predictions_svm)\n",
    "print(confusion)\n",
    "TP_SVM = confusion[1, 1]\n",
    "TN_SVM = confusion[0, 0]\n",
    "FP_SVM = confusion[0, 1]\n",
    "FN_SVM = confusion[1, 0]\n"
   ]
  },
  {
   "cell_type": "code",
   "execution_count": 56,
   "metadata": {},
   "outputs": [
    {
     "name": "stdout",
     "output_type": "stream",
     "text": [
      "Misclassification Rate:  0.29054054054054057\n",
      "Precision:  0.8958333333333334\n",
      "Recall:  0.5308641975308642\n",
      "F1_Score: 0.6666666666666666\n",
      "Sensitivity:  0.9253731343283582\n",
      "Specificity:  0.5308641975308642\n"
     ]
    }
   ],
   "source": [
    "# Calculating \"Misclassification Rate\"how often is the classifier incorrect?\n",
    "Mis_Rate_SVM = (1 - metrics.accuracy_score(y_test, Predictions_svm))\n",
    "print(\"Misclassification Rate: \",Mis_Rate_SVM)\n",
    "\n",
    "#Precision: When a positive value is predicted, how often is the prediction correct?\n",
    "precision_SVM = metrics.precision_score(y_test, Predictions_svm)\n",
    "print(\"Precision: \",precision_SVM)\n",
    "\n",
    "#Recall:Recall is the fraction of the relevant results that are successfully retrieved.\n",
    "recall_SVM = metrics.recall_score(y_test, Predictions_svm)\n",
    "print(\"Recall: \",recall_SVM)\n",
    "\n",
    "#F1 Score: balanced F-score or F-measure which measure's test accuracy.\n",
    "f1_SVM=f1_score(y_test,Predictions_svm)\n",
    "print(\"F1_Score:\", f1_SVM)\n",
    "\n",
    "#Sensitivity: When the actual value is positive, how often is the prediction correct?\n",
    "#Also known as \"True Positive Rate\" or \"Recall\"\n",
    "sensitivity_SVM = TP_SVM / float(FN_SVM + TP_SVM)\n",
    "print(\"Sensitivity: \",sensitivity_SVM)\n",
    "\n",
    "#Specificity: When the actual value is negative, how often is the prediction correct?\n",
    "#This specifies how \"specific\" (or \"selective\") is the classifier in predicting positive instances?\n",
    "specificity_SVM = TN_SVM / (TN_SVM + FP_SVM)\n",
    "print(\"Specificity: \",specificity_SVM)"
   ]
  },
  {
   "cell_type": "code",
   "execution_count": 57,
   "metadata": {},
   "outputs": [],
   "source": [
    "y_pred_prob = svm_classifier.predict_proba(X_test)[:, 1]\n",
    "\n",
    "fpr, tpr, thresholds = metrics.roc_curve(y_test,y_pred_prob,pos_label=2)"
   ]
  },
  {
   "cell_type": "code",
   "execution_count": 58,
   "metadata": {},
   "outputs": [],
   "source": [
    "roc_auc = auc(fpr, tpr)"
   ]
  },
  {
   "cell_type": "code",
   "execution_count": 59,
   "metadata": {},
   "outputs": [
    {
     "data": {
      "image/png": "[encoded data removed]",
      "text/plain": [
       "<Figure size 432x288 with 1 Axes>"
      ]
     },
     "metadata": {},
     "output_type": "display_data"
    }
   ],
   "source": [
    "plt.title('ROC(Receiver Operating Characteristic)')\n",
    "plt.plot(fpr, tpr, 'b', label='AUC = %0.5f'% roc_auc)\n",
    "plt.legend(loc='lower right')\n",
    "plt.rcParams['font.size'] = 10\n",
    "plt.plot([1,0],[1,0],'r--')\n",
    "plt.xlim([0,1.0])\n",
    "plt.ylim([0,1.0])\n",
    "plt.ylabel('True Positive Rate (TPR),[Sensitivity]')\n",
    "plt.xlabel('False Positive Rate (FPR),[1 - Specificity]')\n",
    "plt.grid(True)\n",
    "plt.show()"
   ]
  },
  {
   "cell_type": "code",
   "execution_count": 60,
   "metadata": {},
   "outputs": [],
   "source": [
    "def evaluate_threshold(threshold):\n",
    "    print('Sensitivity:', tpr[thresholds > threshold][-1])\n",
    "    print('Specificity:', 1 - fpr[thresholds > threshold][-1])"
   ]
  },
  {
   "cell_type": "code",
   "execution_count": 61,
   "metadata": {},
   "outputs": [
    {
     "name": "stdout",
     "output_type": "stream",
     "text": [
      "Sensitivity: 0.9253731343283582\n",
      "Specificity: 0.5555555555555556\n"
     ]
    }
   ],
   "source": [
    "evaluate_threshold(0.5)"
   ]
  },
  {
   "cell_type": "code",
   "execution_count": 62,
   "metadata": {},
   "outputs": [
    {
     "data": {
      "text/plain": [
       "0.5818432784656484"
      ]
     },
     "execution_count": 62,
     "metadata": {},
     "output_type": "execute_result"
    }
   ],
   "source": [
    "#loss function\n",
    "from sklearn.metrics import log_loss\n",
    "Loss_SVM = log_loss(y_test,y_pred_prob)\n",
    "Loss_SVM"
   ]
  },
  {
   "cell_type": "markdown",
   "metadata": {},
   "source": [
    "# RESULTS"
   ]
  },
  {
   "cell_type": "markdown",
   "metadata": {},
   "source": [
    "### Comparing the models based on following factors\n",
    "Accuracy , Loss , True Positive , False Positive , True Negative , False Negative , Sensitivity , Precision, Recall and F1 Score"
   ]
  },
  {
   "cell_type": "code",
   "execution_count": 63,
   "metadata": {},
   "outputs": [
    {
     "data": {
      "text/html": [
       "<div>\n",
       "<style scoped>\n",
       "    .dataframe tbody tr th:only-of-type {\n",
       "        vertical-align: middle;\n",
       "    }\n",
       "\n",
       "    .dataframe tbody tr th {\n",
       "        vertical-align: top;\n",
       "    }\n",
       "\n",
       "    .dataframe thead th {\n",
       "        text-align: right;\n",
       "    }\n",
       "</style>\n",
       "<table border=\"1\" class=\"dataframe\">\n",
       "  <thead>\n",
       "    <tr style=\"text-align: right;\">\n",
       "      <th></th>\n",
       "      <th>Model</th>\n",
       "      <th>Accuracy</th>\n",
       "      <th>Loss</th>\n",
       "      <th>TP</th>\n",
       "      <th>FP</th>\n",
       "      <th>TN</th>\n",
       "      <th>FN</th>\n",
       "      <th>Sensitivity</th>\n",
       "      <th>Specificity</th>\n",
       "      <th>Precision</th>\n",
       "      <th>Recall</th>\n",
       "      <th>F1 score</th>\n",
       "    </tr>\n",
       "  </thead>\n",
       "  <tbody>\n",
       "    <tr>\n",
       "      <th>0</th>\n",
       "      <td>Decision Tree</td>\n",
       "      <td>0.824324</td>\n",
       "      <td>0.846209</td>\n",
       "      <td>57</td>\n",
       "      <td>16</td>\n",
       "      <td>65</td>\n",
       "      <td>10</td>\n",
       "      <td>0.850746</td>\n",
       "      <td>0.802469</td>\n",
       "      <td>0.866667</td>\n",
       "      <td>0.802469</td>\n",
       "      <td>0.833333</td>\n",
       "    </tr>\n",
       "    <tr>\n",
       "      <th>1</th>\n",
       "      <td>SVM</td>\n",
       "      <td>0.709459</td>\n",
       "      <td>0.581843</td>\n",
       "      <td>62</td>\n",
       "      <td>38</td>\n",
       "      <td>43</td>\n",
       "      <td>5</td>\n",
       "      <td>0.925373</td>\n",
       "      <td>0.530864</td>\n",
       "      <td>0.895833</td>\n",
       "      <td>0.530864</td>\n",
       "      <td>0.666667</td>\n",
       "    </tr>\n",
       "  </tbody>\n",
       "</table>\n",
       "</div>"
      ],
      "text/plain": [
       "           Model  Accuracy      Loss  TP  FP  TN  FN  Sensitivity  \\\n",
       "0  Decision Tree  0.824324  0.846209  57  16  65  10     0.850746   \n",
       "1            SVM  0.709459  0.581843  62  38  43   5     0.925373   \n",
       "\n",
       "   Specificity  Precision    Recall  F1 score  \n",
       "0     0.802469   0.866667  0.802469  0.833333  \n",
       "1     0.530864   0.895833  0.530864  0.666667  "
      ]
     },
     "execution_count": 63,
     "metadata": {},
     "output_type": "execute_result"
    }
   ],
   "source": [
    "resultdf = pd.DataFrame(columns=[\"Model\",\"Accuracy\",\"Loss\",\"TP\",\"FP\",\"TN\",\"FN\",\"Sensitivity\",\"Specificity\",\"Precision\",\"Recall\",\"F1 score\"])\n",
    "resultdf.loc[0] = [\"Decision Tree\", Accuracy_DT,Loss_DT,TP_DT,FP_DT,TN_DT,FN_DT,sensitivity_DT, specificity_DT,precision_DT,recall_DT,f1_DT]\n",
    "resultdf.loc[1] = [\"SVM\", Accuracy_SVM, Loss_SVM, TP_SVM,FP_SVM,TN_SVM,FN_SVM,sensitivity_SVM, specificity_SVM,precision_SVM,recall_SVM,f1_SVM]\n",
    "\n",
    "resultdf"
   ]
  },
  {
   "cell_type": "code",
   "execution_count": 64,
   "metadata": {},
   "outputs": [],
   "source": [
    "arraycuracy =[]\n",
    "arraycuracy.append(Accuracy_DT)\n",
    "arraycuracy.append(Accuracy_SVM)"
   ]
  },
  {
   "cell_type": "code",
   "execution_count": 65,
   "metadata": {},
   "outputs": [],
   "source": [
    "precisionray =[]\n",
    "precisionray.append(precision_DT)\n",
    "precisionray.append(precision_SVM)"
   ]
  },
  {
   "cell_type": "code",
   "execution_count": 66,
   "metadata": {},
   "outputs": [],
   "source": [
    "recallray =[]\n",
    "recallray.append(recall_DT)\n",
    "recallray.append(recall_SVM)"
   ]
  },
  {
   "cell_type": "code",
   "execution_count": 67,
   "metadata": {},
   "outputs": [],
   "source": [
    "f1ray=[]\n",
    "f1ray.append(f1_DT)\n",
    "f1ray.append(f1_SVM)"
   ]
  },
  {
   "cell_type": "code",
   "execution_count": 68,
   "metadata": {},
   "outputs": [
    {
     "data": {
      "image/png": "[encoded data removed]",
      "text/plain": [
       "<Figure size 432x288 with 1 Axes>"
      ]
     },
     "metadata": {},
     "output_type": "display_data"
    }
   ],
   "source": [
    "import  matplotlib.pyplot  as plt\n",
    "classifier_names=('Decision Tree','SVM')\n",
    "y_axis=np.arange(len(classifier_names))\n",
    "plt.bar(y_axis, arraycuracy, alpha=0.5,color='Green')\n",
    "plt.xticks(y_axis, classifier_names)\n",
    "plt.ylabel('Accuracy Scores')\n",
    "plt.title('Classifier comparison wrt Accuracy')\n",
    "plt.show()"
   ]
  },
  {
   "cell_type": "code",
   "execution_count": 69,
   "metadata": {},
   "outputs": [
    {
     "data": {
      "image/png": "[encoded data removed]",
      "text/plain": [
       "<Figure size 432x288 with 1 Axes>"
      ]
     },
     "metadata": {},
     "output_type": "display_data"
    }
   ],
   "source": [
    "y_axis=np.arange(len(classifier_names))\n",
    "plt.bar(y_axis,precisionray, alpha=0.5,color='Blue',ecolor='black')\n",
    "plt.xticks(y_axis, classifier_names)\n",
    "plt.ylabel('precision Scores')\n",
    "plt.title('Classifier comparison wrt Precision')\n",
    "plt.show()"
   ]
  },
  {
   "cell_type": "code",
   "execution_count": 70,
   "metadata": {},
   "outputs": [
    {
     "data": {
      "image/png": "[encoded data removed]",
      "text/plain": [
       "<Figure size 432x288 with 1 Axes>"
      ]
     },
     "metadata": {},
     "output_type": "display_data"
    }
   ],
   "source": [
    "y_axis=np.arange(len(classifier_names))\n",
    "plt.bar(y_axis,recallray, alpha=0.5,color='Red',ecolor='black')\n",
    "plt.xticks(y_axis, classifier_names)\n",
    "plt.ylabel('recall Scores')\n",
    "plt.title('Classifier comparison wrt Recall')\n",
    "plt.show()"
   ]
  },
  {
   "cell_type": "code",
   "execution_count": 71,
   "metadata": {},
   "outputs": [
    {
     "data": {
      "image/png": "[encoded data removed]",
      "text/plain": [
       "<Figure size 432x288 with 1 Axes>"
      ]
     },
     "metadata": {},
     "output_type": "display_data"
    }
   ],
   "source": [
    "y_axis=np.arange(len(classifier_names))\n",
    "plt.bar(y_axis,f1ray, alpha=0.4,color='Purple',ecolor='black')\n",
    "plt.xticks(y_axis, classifier_names)\n",
    "plt.ylabel('F1 Scores')\n",
    "plt.title('Classifier comparison wrt F1 measure')\n",
    "plt.show()"
   ]
  },
  {
   "cell_type": "markdown",
   "metadata": {},
   "source": [
    "# Category 12: LogisticRegression \n",
    "\n",
    "### Note: For Curosity in finding high accuracy I have implemented Logistic Regression algorithm for comparing accuracy."
   ]
  },
  {
   "cell_type": "code",
   "execution_count": 72,
   "metadata": {},
   "outputs": [],
   "source": [
    "from sklearn.linear_model import LogisticRegression"
   ]
  },
  {
   "cell_type": "code",
   "execution_count": 73,
   "metadata": {},
   "outputs": [],
   "source": [
    "LR_Classifier = LogisticRegression(random_state=250)"
   ]
  },
  {
   "cell_type": "code",
   "execution_count": 74,
   "metadata": {},
   "outputs": [
    {
     "data": {
      "text/plain": [
       "LogisticRegression(C=1.0, class_weight=None, dual=False, fit_intercept=True,\n",
       "          intercept_scaling=1, max_iter=100, multi_class='ovr', n_jobs=1,\n",
       "          penalty='l2', random_state=250, solver='liblinear', tol=0.0001,\n",
       "          verbose=0, warm_start=False)"
      ]
     },
     "execution_count": 74,
     "metadata": {},
     "output_type": "execute_result"
    }
   ],
   "source": [
    "LR_Classifier.fit(X_train,y_train)"
   ]
  },
  {
   "cell_type": "code",
   "execution_count": 75,
   "metadata": {},
   "outputs": [],
   "source": [
    "Predictions_Logistic = LR_Classifier.predict(X_test)"
   ]
  },
  {
   "cell_type": "code",
   "execution_count": 76,
   "metadata": {},
   "outputs": [],
   "source": [
    "Accuracy_Logistic = accuracy_score(y_true = y_test, y_pred = Predictions_Logistic)"
   ]
  },
  {
   "cell_type": "code",
   "execution_count": 77,
   "metadata": {},
   "outputs": [
    {
     "data": {
      "text/plain": [
       "0.7432432432432432"
      ]
     },
     "execution_count": 77,
     "metadata": {},
     "output_type": "execute_result"
    }
   ],
   "source": [
    "Accuracy_Logistic"
   ]
  },
  {
   "cell_type": "code",
   "execution_count": 78,
   "metadata": {},
   "outputs": [
    {
     "name": "stdout",
     "output_type": "stream",
     "text": [
      "[[68 13]\n",
      " [25 42]]\n"
     ]
    }
   ],
   "source": [
    "from sklearn import metrics\n",
    "confusion=metrics.confusion_matrix(y_test, Predictions_Logistic)\n",
    "print(confusion)\n",
    "TP_LR = confusion[1, 1]\n",
    "TN_LR = confusion[0, 0]\n",
    "FP_LR = confusion[0, 1]\n",
    "FN_LR = confusion[1, 0]"
   ]
  },
  {
   "cell_type": "code",
   "execution_count": 79,
   "metadata": {},
   "outputs": [
    {
     "name": "stdout",
     "output_type": "stream",
     "text": [
      "Misclassification Rate:  0.2567567567567568\n",
      "Precision:  0.7311827956989247\n",
      "Recall:  0.8395061728395061\n",
      "F1_Score: 0.7816091954022988\n",
      "Sensitivity:  0.6268656716417911\n",
      "Specificity:  0.8395061728395061\n"
     ]
    }
   ],
   "source": [
    "# Calculating \"Misclassification Rate\"how often is the classifier incorrect?\n",
    "Mis_Rate_LR = (1 - metrics.accuracy_score(y_test, Predictions_Logistic))\n",
    "print(\"Misclassification Rate: \",Mis_Rate_LR)\n",
    "\n",
    "#Precision: When a positive value is predicted, how often is the prediction correct?\n",
    "precision_LR = metrics.precision_score(y_test, Predictions_Logistic)\n",
    "print(\"Precision: \",precision_LR)\n",
    "\n",
    "#Recall:Recall is the fraction of the relevant results that are successfully retrieved.\n",
    "recall_LR = metrics.recall_score(y_test, Predictions_Logistic)\n",
    "print(\"Recall: \",recall_LR)\n",
    "\n",
    "#F1 Score: balanced F-score or F-measure which measure's test accuracy.\n",
    "f1_LR=f1_score(y_test,Predictions_Logistic)\n",
    "print(\"F1_Score:\", f1_LR)\n",
    "\n",
    "#Sensitivity: When the actual value is positive, how often is the prediction correct?\n",
    "#Also known as \"True Positive Rate\" or \"Recall\"\n",
    "sensitivity_LR = TP_LR / float(FN_LR + TP_LR)\n",
    "print(\"Sensitivity: \",sensitivity_LR)\n",
    "\n",
    "#Specificity: When the actual value is negative, how often is the prediction correct?\n",
    "#How \"specific\" (or \"selective\") is the classifier in predicting positive instances?\n",
    "specificity_LR = TN_LR / (TN_LR + FP_LR)\n",
    "print(\"Specificity: \",specificity_LR)"
   ]
  },
  {
   "cell_type": "code",
   "execution_count": 80,
   "metadata": {},
   "outputs": [],
   "source": [
    "y_pred_prob = LR_Classifier.predict_proba(X_test)[:, 1]\n",
    "\n",
    "fpr, tpr, thresholds = metrics.roc_curve(y_test,y_pred_prob,pos_label=2)"
   ]
  },
  {
   "cell_type": "code",
   "execution_count": 81,
   "metadata": {},
   "outputs": [],
   "source": [
    "roc_auc = auc(fpr, tpr)"
   ]
  },
  {
   "cell_type": "code",
   "execution_count": 82,
   "metadata": {},
   "outputs": [
    {
     "data": {
      "image/png": "[encoded data removed]",
      "text/plain": [
       "<Figure size 432x288 with 1 Axes>"
      ]
     },
     "metadata": {},
     "output_type": "display_data"
    }
   ],
   "source": [
    "plt.title('ROC(Receiver Operating Characteristic)')\n",
    "plt.plot(fpr, tpr, 'b', label='AUC = %0.5f'% roc_auc)\n",
    "plt.legend(loc='lower right')\n",
    "plt.rcParams['font.size'] = 10\n",
    "plt.plot([1,0],[1,0],'r--')\n",
    "plt.xlim([0,1.0])\n",
    "plt.ylim([0,1.0])\n",
    "plt.ylabel('True Positive Rate (TPR)/[(Sensitivity)]')\n",
    "plt.xlabel('False Positive Rate (FPR)/[1 - Specificity]')\n",
    "plt.grid(True)\n",
    "plt.show()"
   ]
  },
  {
   "cell_type": "code",
   "execution_count": 83,
   "metadata": {},
   "outputs": [],
   "source": [
    "def evaluate_threshold(threshold):\n",
    "    print('Sensitivity:', tpr[thresholds > threshold][-1])\n",
    "    print('Specificity:', 1 - fpr[thresholds > threshold][-1])"
   ]
  },
  {
   "cell_type": "code",
   "execution_count": 84,
   "metadata": {},
   "outputs": [
    {
     "name": "stdout",
     "output_type": "stream",
     "text": [
      "Sensitivity: 0.6268656716417911\n",
      "Specificity: 0.8395061728395061\n"
     ]
    }
   ],
   "source": [
    "evaluate_threshold(0.5)"
   ]
  },
  {
   "cell_type": "code",
   "execution_count": 85,
   "metadata": {},
   "outputs": [
    {
     "data": {
      "text/plain": [
       "0.6022166534726436"
      ]
     },
     "execution_count": 85,
     "metadata": {},
     "output_type": "execute_result"
    }
   ],
   "source": [
    "#loss function\n",
    "from sklearn.metrics import log_loss\n",
    "Loss_Logistic = log_loss(y_test,y_pred_prob)\n",
    "Loss_Logistic"
   ]
  },
  {
   "cell_type": "markdown",
   "metadata": {},
   "source": [
    "# RESULT - Comparing Decision Tree , SVM and Logistic Regression."
   ]
  },
  {
   "cell_type": "code",
   "execution_count": 86,
   "metadata": {},
   "outputs": [
    {
     "data": {
      "text/html": [
       "<div>\n",
       "<style scoped>\n",
       "    .dataframe tbody tr th:only-of-type {\n",
       "        vertical-align: middle;\n",
       "    }\n",
       "\n",
       "    .dataframe tbody tr th {\n",
       "        vertical-align: top;\n",
       "    }\n",
       "\n",
       "    .dataframe thead th {\n",
       "        text-align: right;\n",
       "    }\n",
       "</style>\n",
       "<table border=\"1\" class=\"dataframe\">\n",
       "  <thead>\n",
       "    <tr style=\"text-align: right;\">\n",
       "      <th></th>\n",
       "      <th>Model</th>\n",
       "      <th>Accuracy</th>\n",
       "      <th>Loss</th>\n",
       "      <th>TP</th>\n",
       "      <th>FP</th>\n",
       "      <th>TN</th>\n",
       "      <th>FN</th>\n",
       "      <th>Sensitivity</th>\n",
       "      <th>Specificity</th>\n",
       "      <th>Precision</th>\n",
       "      <th>Recall</th>\n",
       "      <th>F1 Score</th>\n",
       "    </tr>\n",
       "  </thead>\n",
       "  <tbody>\n",
       "    <tr>\n",
       "      <th>0</th>\n",
       "      <td>Decision Tree</td>\n",
       "      <td>0.824324</td>\n",
       "      <td>0.846209</td>\n",
       "      <td>57</td>\n",
       "      <td>16</td>\n",
       "      <td>65</td>\n",
       "      <td>10</td>\n",
       "      <td>0.850746</td>\n",
       "      <td>0.802469</td>\n",
       "      <td>0.866667</td>\n",
       "      <td>0.802469</td>\n",
       "      <td>0.833333</td>\n",
       "    </tr>\n",
       "    <tr>\n",
       "      <th>1</th>\n",
       "      <td>SVM</td>\n",
       "      <td>0.709459</td>\n",
       "      <td>0.581843</td>\n",
       "      <td>62</td>\n",
       "      <td>38</td>\n",
       "      <td>43</td>\n",
       "      <td>5</td>\n",
       "      <td>0.925373</td>\n",
       "      <td>0.530864</td>\n",
       "      <td>0.895833</td>\n",
       "      <td>0.530864</td>\n",
       "      <td>0.666667</td>\n",
       "    </tr>\n",
       "    <tr>\n",
       "      <th>2</th>\n",
       "      <td>LogisticRegression</td>\n",
       "      <td>0.743243</td>\n",
       "      <td>0.602217</td>\n",
       "      <td>42</td>\n",
       "      <td>13</td>\n",
       "      <td>68</td>\n",
       "      <td>25</td>\n",
       "      <td>0.626866</td>\n",
       "      <td>0.839506</td>\n",
       "      <td>0.731183</td>\n",
       "      <td>0.839506</td>\n",
       "      <td>0.781609</td>\n",
       "    </tr>\n",
       "  </tbody>\n",
       "</table>\n",
       "</div>"
      ],
      "text/plain": [
       "                Model  Accuracy      Loss  TP  FP  TN  FN  Sensitivity  \\\n",
       "0       Decision Tree  0.824324  0.846209  57  16  65  10     0.850746   \n",
       "1                 SVM  0.709459  0.581843  62  38  43   5     0.925373   \n",
       "2  LogisticRegression  0.743243  0.602217  42  13  68  25     0.626866   \n",
       "\n",
       "   Specificity  Precision    Recall  F1 Score  \n",
       "0     0.802469   0.866667  0.802469  0.833333  \n",
       "1     0.530864   0.895833  0.530864  0.666667  \n",
       "2     0.839506   0.731183  0.839506  0.781609  "
      ]
     },
     "execution_count": 86,
     "metadata": {},
     "output_type": "execute_result"
    }
   ],
   "source": [
    "resultdf = pd.DataFrame(columns=[\"Model\",\"Accuracy\",\"Loss\",\"TP\",\"FP\",\"TN\",\"FN\",\"Sensitivity\",\"Specificity\",\"Precision\",\"Recall\",\"F1 Score\"])\n",
    "resultdf.loc[0] = [\"Decision Tree\", Accuracy_DT,Loss_DT,TP_DT,FP_DT,TN_DT,FN_DT,sensitivity_DT, specificity_DT,precision_DT,recall_DT,f1_DT]\n",
    "resultdf.loc[1] = [\"SVM\", Accuracy_SVM, Loss_SVM, TP_SVM,FP_SVM,TN_SVM,FN_SVM,sensitivity_SVM, specificity_SVM,precision_SVM,recall_SVM,f1_SVM]\n",
    "resultdf.loc[2] = [\"LogisticRegression\", Accuracy_Logistic, Loss_Logistic, TP_LR,FP_LR,TN_LR,FN_LR,sensitivity_LR, specificity_LR,precision_LR,recall_LR,f1_LR]\n",
    "resultdf"
   ]
  },
  {
   "cell_type": "code",
   "execution_count": 87,
   "metadata": {},
   "outputs": [],
   "source": [
    "arraycuracy =[]\n",
    "arraycuracy.append(Accuracy_DT)\n",
    "arraycuracy.append(Accuracy_SVM)\n",
    "arraycuracy.append(Accuracy_Logistic)"
   ]
  },
  {
   "cell_type": "code",
   "execution_count": 88,
   "metadata": {},
   "outputs": [],
   "source": [
    "precisionray =[]\n",
    "precisionray.append(precision_DT)\n",
    "precisionray.append(precision_SVM)\n",
    "precisionray.append(precision_LR)"
   ]
  },
  {
   "cell_type": "code",
   "execution_count": 89,
   "metadata": {},
   "outputs": [],
   "source": [
    "recallray =[]\n",
    "recallray.append(recall_DT)\n",
    "recallray.append(recall_SVM)\n",
    "recallray.append(recall_LR)"
   ]
  },
  {
   "cell_type": "code",
   "execution_count": 90,
   "metadata": {},
   "outputs": [],
   "source": [
    "f1ray=[]\n",
    "f1ray.append(f1_DT)\n",
    "f1ray.append(f1_SVM)\n",
    "f1ray.append(f1_LR)"
   ]
  },
  {
   "cell_type": "code",
   "execution_count": 91,
   "metadata": {
    "scrolled": true
   },
   "outputs": [
    {
     "data": {
      "image/png": "[encoded data removed]",
      "text/plain": [
       "<Figure size 432x288 with 1 Axes>"
      ]
     },
     "metadata": {},
     "output_type": "display_data"
    }
   ],
   "source": [
    "import  matplotlib.pyplot  as plt\n",
    "classifier_names=('Decision Tree','SVM','LogisticRegression')\n",
    "y_axis=np.arange(len(classifier_names))\n",
    "plt.bar(y_axis, arraycuracy, alpha=0.5,color='Green')\n",
    "plt.xticks(y_axis, classifier_names)\n",
    "plt.ylabel('Accuracy Scores')\n",
    "plt.title('Classifier comparison wrt Accuracy')\n",
    "plt.show()"
   ]
  },
  {
   "cell_type": "code",
   "execution_count": 92,
   "metadata": {},
   "outputs": [
    {
     "data": {
      "image/png": "[encoded data removed]",
      "text/plain": [
       "<Figure size 432x288 with 1 Axes>"
      ]
     },
     "metadata": {},
     "output_type": "display_data"
    }
   ],
   "source": [
    "y_axis=np.arange(len(classifier_names))\n",
    "plt.bar(y_axis,precisionray, alpha=0.5,color='Blue',ecolor='black')\n",
    "plt.xticks(y_axis, classifier_names)\n",
    "plt.ylabel('precision Scores')\n",
    "plt.title('Classifier comparison wrt Precision')\n",
    "plt.show()"
   ]
  },
  {
   "cell_type": "code",
   "execution_count": 93,
   "metadata": {},
   "outputs": [
    {
     "data": {
      "image/png": "[encoded data removed]",
      "text/plain": [
       "<Figure size 432x288 with 1 Axes>"
      ]
     },
     "metadata": {},
     "output_type": "display_data"
    }
   ],
   "source": [
    "y_axis=np.arange(len(classifier_names))\n",
    "plt.bar(y_axis,recallray, alpha=0.5,color='Red',ecolor='black')\n",
    "plt.xticks(y_axis, classifier_names)\n",
    "plt.ylabel('recall Scores')\n",
    "plt.title('Classifier comparison wrt Recall')\n",
    "plt.show()"
   ]
  },
  {
   "cell_type": "code",
   "execution_count": 94,
   "metadata": {},
   "outputs": [
    {
     "data": {
      "image/png": "[encoded data removed]",
      "text/plain": [
       "<Figure size 432x288 with 1 Axes>"
      ]
     },
     "metadata": {},
     "output_type": "display_data"
    }
   ],
   "source": [
    "y_axis=np.arange(len(classifier_names))\n",
    "plt.bar(y_axis,f1ray, alpha=0.4,color='Purple',ecolor='black')\n",
    "plt.xticks(y_axis, classifier_names)\n",
    "plt.ylabel('F1 Scores')\n",
    "plt.title('Classifier comparison wrt F1 measure')\n",
    "plt.show()"
   ]
  },
  {
   "cell_type": "markdown",
   "metadata": {},
   "source": [
    "# CONCLUSION"
   ]
  },
  {
   "cell_type": "markdown",
   "metadata": {},
   "source": [
    "With the aim to predict the absenteeism in work on the various factors we build models based on three different \n",
    "supervised classification techniques \n",
    "\n",
    "- Decision Tree\n",
    "- Support Vector Machine\n",
    "- Logistic Regression\n",
    "\n",
    "As we can observe through the results, The Decision tree has performed better as compared to SVM\n",
    "and Logistic Regression in accuracy, sensitivity, Precision and F1 Score.\n",
    "\n",
    "From the available 22 attributes I identified 19 based on domain knowledge and the recursive feature elimination(RFE) \n",
    "model. \n",
    "\n",
    "Some of the key factors that contribute towards news popularity are  \n",
    "-  'Disciplinary failure' is the bissgest issue of absenteeism.\n",
    "-   How mnay children does an employee has ?\n",
    "-   Does drinking alcohol is an issue of abenteeism - 'Social Drinker'?\n",
    "\n",
    "The Decison Tree model that we have built gives **82%** accuracy on the testing data.\n",
    "Thus, I have built a model that can predict whether an Employee will be absent on for the work given that the features \n",
    "provided for his/her absence."
   ]
  },
  {
   "cell_type": "code",
   "execution_count": null,
   "metadata": {},
   "outputs": [],
   "source": []
  }
 ],
 "metadata": {
  "kernelspec": {
   "display_name": "Python 3",
   "language": "python",
   "name": "python3"
  },
  "language_info": {
   "codemirror_mode": {
    "name": "ipython",
    "version": 3
   },
   "file_extension": ".py",
   "mimetype": "text/x-python",
   "name": "python",
   "nbconvert_exporter": "python",
   "pygments_lexer": "ipython3",
   "version": "3.6.5"
  }
 },
 "nbformat": 4,
 "nbformat_minor": 2
}
